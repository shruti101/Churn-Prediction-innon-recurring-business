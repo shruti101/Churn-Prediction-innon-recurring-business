{
  "nbformat": 4,
  "nbformat_minor": 0,
  "metadata": {
    "colab": {
      "name": "MLfinal.ipynb",
      "provenance": []
    },
    "kernelspec": {
      "name": "python3",
      "display_name": "Python 3"
    }
  },
  "cells": [
    {
      "cell_type": "markdown",
      "metadata": {
        "id": "wmc_Yo4cyvQY",
        "colab_type": "text"
      },
      "source": [
        "# Importing necessary libraries "
      ]
    },
    {
      "cell_type": "code",
      "metadata": {
        "id": "uyBd9D4XZQBa",
        "colab_type": "code",
        "outputId": "d75741e7-09ca-4f21-a7e8-83d9e76be915",
        "colab": {
          "base_uri": "https://localhost:8080/",
          "height": 35
        }
      },
      "source": [
        "pip install psycopg2-binary"
      ],
      "execution_count": 174,
      "outputs": [
        {
          "output_type": "stream",
          "text": [
            "Requirement already satisfied: psycopg2-binary in /usr/local/lib/python3.6/dist-packages (2.8.5)\n"
          ],
          "name": "stdout"
        }
      ]
    },
    {
      "cell_type": "code",
      "metadata": {
        "id": "dQZTFxpVZUsy",
        "colab_type": "code",
        "outputId": "bbd12826-30d4-4400-b03b-aad305af7a1a",
        "colab": {
          "base_uri": "https://localhost:8080/",
          "height": 35
        }
      },
      "source": [
        " if get_ipython().__class__.__module__ == \"google.colab._shell\":\n",
        "  !pip -q install --no-cache-dir --upgrade git+https://3dbbf9c3bc8ca549a0bf05ac163ebbf18dedaff5@github.com/nlabmsc/nlabproxypostgres.git\n",
        "  import nlabproxypostgres\n",
        "  import psycopg2\n",
        "  psycopg2.connect = nlabproxypostgres.proxy_psycopg2_connect\n",
        "else:\n",
        "   import psycopg2 \n",
        "import psycopg2\n",
        "from getpass import getpass\n",
        "import pandas as pd"
      ],
      "execution_count": 187,
      "outputs": [
        {
          "output_type": "stream",
          "text": [
            "  Building wheel for nlabproxypostgres (setup.py) ... \u001b[?25l\u001b[?25hdone\n"
          ],
          "name": "stdout"
        }
      ]
    },
    {
      "cell_type": "code",
      "metadata": {
        "id": "1MqETJEiZYRA",
        "colab_type": "code",
        "outputId": "7579878c-92d3-4947-df93-ce5c235f0272",
        "colab": {
          "base_uri": "https://localhost:8080/",
          "height": 35
        }
      },
      "source": [
        "user = 'lixsr43'\n",
        "db_ip = '10.158.72.122'\n",
        "pw = getpass('Enter the database password for {}: '.format(user))"
      ],
      "execution_count": 188,
      "outputs": [
        {
          "output_type": "stream",
          "text": [
            "Enter the database password for lixsr43: ··········\n"
          ],
          "name": "stdout"
        }
      ]
    },
    {
      "cell_type": "code",
      "metadata": {
        "id": "2H96fFRMOnDH",
        "colab_type": "code",
        "colab": {}
      },
      "source": [
        "import numpy as np\n",
        "import pandas as pd"
      ],
      "execution_count": 0,
      "outputs": []
    },
    {
      "cell_type": "markdown",
      "metadata": {
        "id": "oKO2xi70y8gx",
        "colab_type": "text"
      },
      "source": [
        "# Making Temporal Features"
      ]
    },
    {
      "cell_type": "code",
      "metadata": {
        "id": "QSIVvDrdZb-V",
        "colab_type": "code",
        "colab": {}
      },
      "source": [
        "def get_dataset( reference_day = '2019-10-23', tumbling_window_size = 7, output_window_size = 27, num_periods = 10, window_agg_fun = 'SUM',window_agg_fun2='SUM', window_agg_fun3='COUNT', output_fun='CASE WHEN SUM'):\n",
        "    \n",
        "    sql_top = \"\"\"\n",
        "    SELECT customer_id,\n",
        "    %(ref_date)s::DATE AS ref_day,\n",
        "    {0}(DISTINCT CASE WHEN purchased_at::DATE > %(ref_date)s::DATE AND purchased_at::DATE <= %(ref_date)s::DATE + %(ows)s::INT THEN ABS(receipt_id) ELSE 0 END) <> 0 THEN 1 ELSE 0 END as output_feature,\n",
        "    \"\"\".format(output_fun)\n",
        "\n",
        "    sql = sql_top\n",
        "\n",
        "    for i in range(0,num_periods):\n",
        "           sql += \"{2}(CASE WHEN purchased_at::DATE > %(ref_date)s::DATE -%(ws)s::INT*({0}+1) AND purchased_at::DATE <= %(ref_date)s::DATE-%(ws)s::INT*({0}) THEN {3} ELSE 0 END) as vf{1},\\n\".format(i, i+1, window_agg_fun, \"value\")  \n",
        "    \n",
        "    for i in range(0,num_periods):\n",
        "      sql += \"{2} (DISTINCT CASE WHEN purchased_at::DATE > %(ref_date)s::DATE -%(ws)s::INT*({0}+1) AND purchased_at::DATE <= %(ref_date)s::DATE-%(ws)s::INT*({0}) THEN qty ELSE 0 END) as qf{1},\\n\".format(i, i+1, window_agg_fun2)\n",
        "\n",
        "    for i in range(0,num_periods):\n",
        "      sql += \"{2} (Distinct CASE WHEN purchased_at::DATE > %(ref_date)s::DATE -%(ws)s::INT*({0}+1) AND purchased_at::DATE <= %(ref_date)s::DATE-%(ws)s::INT*({0}) THEN ABS(receipt_id) END) as freq_f{1},\\n\".format(i, i+1, window_agg_fun3)  \n",
        "      \n",
        "    sql_bottom = \"\"\"   \n",
        "    FROM ml16.receipts join ml16.receipt_lines using(receipt_id)\n",
        "    where purchased_at > ('2018-06-13 00:00:00')\n",
        "    GROUP BY customer_id\n",
        "    having count(purchased_at) > 1 \n",
        "    \"\"\"\n",
        "    sql = sql[:-2] + sql_bottom\n",
        "    \n",
        "    with psycopg2.connect(\"host='{}' dbname='nlab' user='{}' password='{}'\".format(db_ip, user, pw)) as conn:\n",
        "        df = pd.read_sql(sql, conn, params = {'ref_date':reference_day, 'ws':tumbling_window_size, 'ows':output_window_size})\n",
        "        df.set_index('customer_id')\n",
        "        input_feature = df.drop(columns = ['ref_day','output_feature'], inplace = False)\n",
        "    \n",
        "    return input_feature, df.output_feature"
      ],
      "execution_count": 0,
      "outputs": []
    },
    {
      "cell_type": "code",
      "metadata": {
        "id": "QGCnOeg-K8nT",
        "colab_type": "code",
        "colab": {}
      },
      "source": [
        "X,y=get_dataset( reference_day = '2019-10-23', tumbling_window_size = 7, output_window_size = 27)"
      ],
      "execution_count": 0,
      "outputs": []
    },
    {
      "cell_type": "code",
      "metadata": {
        "id": "TIOF313Nac2g",
        "colab_type": "code",
        "outputId": "bb75fba6-7ff1-45a8-f80d-65744956d828",
        "colab": {
          "base_uri": "https://localhost:8080/",
          "height": 375
        }
      },
      "source": [
        "X.head(10)"
      ],
      "execution_count": 104,
      "outputs": [
        {
          "output_type": "execute_result",
          "data": {
            "text/html": [
              "<div>\n",
              "<style scoped>\n",
              "    .dataframe tbody tr th:only-of-type {\n",
              "        vertical-align: middle;\n",
              "    }\n",
              "\n",
              "    .dataframe tbody tr th {\n",
              "        vertical-align: top;\n",
              "    }\n",
              "\n",
              "    .dataframe thead th {\n",
              "        text-align: right;\n",
              "    }\n",
              "</style>\n",
              "<table border=\"1\" class=\"dataframe\">\n",
              "  <thead>\n",
              "    <tr style=\"text-align: right;\">\n",
              "      <th></th>\n",
              "      <th>customer_id</th>\n",
              "      <th>vf1</th>\n",
              "      <th>vf2</th>\n",
              "      <th>vf3</th>\n",
              "      <th>vf4</th>\n",
              "      <th>vf5</th>\n",
              "      <th>vf6</th>\n",
              "      <th>vf7</th>\n",
              "      <th>vf8</th>\n",
              "      <th>vf9</th>\n",
              "      <th>vf10</th>\n",
              "      <th>qf1</th>\n",
              "      <th>qf2</th>\n",
              "      <th>qf3</th>\n",
              "      <th>qf4</th>\n",
              "      <th>qf5</th>\n",
              "      <th>qf6</th>\n",
              "      <th>qf7</th>\n",
              "      <th>qf8</th>\n",
              "      <th>qf9</th>\n",
              "      <th>qf10</th>\n",
              "      <th>freq_f1</th>\n",
              "      <th>freq_f2</th>\n",
              "      <th>freq_f3</th>\n",
              "      <th>freq_f4</th>\n",
              "      <th>freq_f5</th>\n",
              "      <th>freq_f6</th>\n",
              "      <th>freq_f7</th>\n",
              "      <th>freq_f8</th>\n",
              "      <th>freq_f9</th>\n",
              "      <th>freq_f10</th>\n",
              "    </tr>\n",
              "  </thead>\n",
              "  <tbody>\n",
              "    <tr>\n",
              "      <th>0</th>\n",
              "      <td>8</td>\n",
              "      <td>0.00</td>\n",
              "      <td>21.61</td>\n",
              "      <td>24.23</td>\n",
              "      <td>0.00</td>\n",
              "      <td>18.12</td>\n",
              "      <td>0.00</td>\n",
              "      <td>21.61</td>\n",
              "      <td>0.00</td>\n",
              "      <td>26.15</td>\n",
              "      <td>22.83</td>\n",
              "      <td>0</td>\n",
              "      <td>1</td>\n",
              "      <td>3</td>\n",
              "      <td>0</td>\n",
              "      <td>1</td>\n",
              "      <td>0</td>\n",
              "      <td>1</td>\n",
              "      <td>0</td>\n",
              "      <td>3</td>\n",
              "      <td>1</td>\n",
              "      <td>0</td>\n",
              "      <td>1</td>\n",
              "      <td>1</td>\n",
              "      <td>0</td>\n",
              "      <td>1</td>\n",
              "      <td>0</td>\n",
              "      <td>1</td>\n",
              "      <td>0</td>\n",
              "      <td>1</td>\n",
              "      <td>1</td>\n",
              "    </tr>\n",
              "    <tr>\n",
              "      <th>1</th>\n",
              "      <td>25</td>\n",
              "      <td>0.00</td>\n",
              "      <td>0.00</td>\n",
              "      <td>0.00</td>\n",
              "      <td>0.00</td>\n",
              "      <td>9.66</td>\n",
              "      <td>0.00</td>\n",
              "      <td>0.00</td>\n",
              "      <td>0.00</td>\n",
              "      <td>0.00</td>\n",
              "      <td>0.00</td>\n",
              "      <td>0</td>\n",
              "      <td>0</td>\n",
              "      <td>0</td>\n",
              "      <td>0</td>\n",
              "      <td>1</td>\n",
              "      <td>0</td>\n",
              "      <td>0</td>\n",
              "      <td>0</td>\n",
              "      <td>0</td>\n",
              "      <td>0</td>\n",
              "      <td>0</td>\n",
              "      <td>0</td>\n",
              "      <td>0</td>\n",
              "      <td>0</td>\n",
              "      <td>1</td>\n",
              "      <td>0</td>\n",
              "      <td>0</td>\n",
              "      <td>0</td>\n",
              "      <td>0</td>\n",
              "      <td>0</td>\n",
              "    </tr>\n",
              "    <tr>\n",
              "      <th>2</th>\n",
              "      <td>47</td>\n",
              "      <td>7.31</td>\n",
              "      <td>0.00</td>\n",
              "      <td>0.00</td>\n",
              "      <td>0.00</td>\n",
              "      <td>0.00</td>\n",
              "      <td>3.84</td>\n",
              "      <td>0.00</td>\n",
              "      <td>13.34</td>\n",
              "      <td>12.00</td>\n",
              "      <td>12.65</td>\n",
              "      <td>3</td>\n",
              "      <td>0</td>\n",
              "      <td>0</td>\n",
              "      <td>0</td>\n",
              "      <td>0</td>\n",
              "      <td>1</td>\n",
              "      <td>0</td>\n",
              "      <td>3</td>\n",
              "      <td>5</td>\n",
              "      <td>3</td>\n",
              "      <td>1</td>\n",
              "      <td>0</td>\n",
              "      <td>0</td>\n",
              "      <td>0</td>\n",
              "      <td>0</td>\n",
              "      <td>1</td>\n",
              "      <td>0</td>\n",
              "      <td>2</td>\n",
              "      <td>1</td>\n",
              "      <td>1</td>\n",
              "    </tr>\n",
              "    <tr>\n",
              "      <th>3</th>\n",
              "      <td>56</td>\n",
              "      <td>0.00</td>\n",
              "      <td>0.00</td>\n",
              "      <td>0.00</td>\n",
              "      <td>0.00</td>\n",
              "      <td>0.00</td>\n",
              "      <td>0.00</td>\n",
              "      <td>0.00</td>\n",
              "      <td>0.00</td>\n",
              "      <td>0.00</td>\n",
              "      <td>0.00</td>\n",
              "      <td>0</td>\n",
              "      <td>0</td>\n",
              "      <td>0</td>\n",
              "      <td>0</td>\n",
              "      <td>0</td>\n",
              "      <td>0</td>\n",
              "      <td>0</td>\n",
              "      <td>0</td>\n",
              "      <td>0</td>\n",
              "      <td>0</td>\n",
              "      <td>0</td>\n",
              "      <td>0</td>\n",
              "      <td>0</td>\n",
              "      <td>0</td>\n",
              "      <td>0</td>\n",
              "      <td>0</td>\n",
              "      <td>0</td>\n",
              "      <td>0</td>\n",
              "      <td>0</td>\n",
              "      <td>0</td>\n",
              "    </tr>\n",
              "    <tr>\n",
              "      <th>4</th>\n",
              "      <td>60</td>\n",
              "      <td>0.00</td>\n",
              "      <td>0.00</td>\n",
              "      <td>0.00</td>\n",
              "      <td>0.00</td>\n",
              "      <td>0.00</td>\n",
              "      <td>0.00</td>\n",
              "      <td>0.00</td>\n",
              "      <td>0.00</td>\n",
              "      <td>0.00</td>\n",
              "      <td>10.34</td>\n",
              "      <td>0</td>\n",
              "      <td>0</td>\n",
              "      <td>0</td>\n",
              "      <td>0</td>\n",
              "      <td>0</td>\n",
              "      <td>0</td>\n",
              "      <td>0</td>\n",
              "      <td>0</td>\n",
              "      <td>0</td>\n",
              "      <td>1</td>\n",
              "      <td>0</td>\n",
              "      <td>0</td>\n",
              "      <td>0</td>\n",
              "      <td>0</td>\n",
              "      <td>0</td>\n",
              "      <td>0</td>\n",
              "      <td>0</td>\n",
              "      <td>0</td>\n",
              "      <td>0</td>\n",
              "      <td>1</td>\n",
              "    </tr>\n",
              "    <tr>\n",
              "      <th>5</th>\n",
              "      <td>62</td>\n",
              "      <td>0.00</td>\n",
              "      <td>0.00</td>\n",
              "      <td>0.00</td>\n",
              "      <td>0.00</td>\n",
              "      <td>0.00</td>\n",
              "      <td>0.00</td>\n",
              "      <td>0.00</td>\n",
              "      <td>0.00</td>\n",
              "      <td>0.00</td>\n",
              "      <td>0.00</td>\n",
              "      <td>0</td>\n",
              "      <td>0</td>\n",
              "      <td>0</td>\n",
              "      <td>0</td>\n",
              "      <td>0</td>\n",
              "      <td>0</td>\n",
              "      <td>0</td>\n",
              "      <td>0</td>\n",
              "      <td>0</td>\n",
              "      <td>0</td>\n",
              "      <td>0</td>\n",
              "      <td>0</td>\n",
              "      <td>0</td>\n",
              "      <td>0</td>\n",
              "      <td>0</td>\n",
              "      <td>0</td>\n",
              "      <td>0</td>\n",
              "      <td>0</td>\n",
              "      <td>0</td>\n",
              "      <td>0</td>\n",
              "    </tr>\n",
              "    <tr>\n",
              "      <th>6</th>\n",
              "      <td>66</td>\n",
              "      <td>0.00</td>\n",
              "      <td>0.00</td>\n",
              "      <td>0.00</td>\n",
              "      <td>0.00</td>\n",
              "      <td>0.00</td>\n",
              "      <td>0.00</td>\n",
              "      <td>0.00</td>\n",
              "      <td>0.00</td>\n",
              "      <td>0.00</td>\n",
              "      <td>0.00</td>\n",
              "      <td>0</td>\n",
              "      <td>0</td>\n",
              "      <td>0</td>\n",
              "      <td>0</td>\n",
              "      <td>0</td>\n",
              "      <td>0</td>\n",
              "      <td>0</td>\n",
              "      <td>0</td>\n",
              "      <td>0</td>\n",
              "      <td>0</td>\n",
              "      <td>0</td>\n",
              "      <td>0</td>\n",
              "      <td>0</td>\n",
              "      <td>0</td>\n",
              "      <td>0</td>\n",
              "      <td>0</td>\n",
              "      <td>0</td>\n",
              "      <td>0</td>\n",
              "      <td>0</td>\n",
              "      <td>0</td>\n",
              "    </tr>\n",
              "    <tr>\n",
              "      <th>7</th>\n",
              "      <td>69</td>\n",
              "      <td>0.00</td>\n",
              "      <td>0.00</td>\n",
              "      <td>6.75</td>\n",
              "      <td>0.00</td>\n",
              "      <td>0.00</td>\n",
              "      <td>0.00</td>\n",
              "      <td>5.24</td>\n",
              "      <td>8.25</td>\n",
              "      <td>0.00</td>\n",
              "      <td>8.12</td>\n",
              "      <td>0</td>\n",
              "      <td>0</td>\n",
              "      <td>1</td>\n",
              "      <td>0</td>\n",
              "      <td>0</td>\n",
              "      <td>0</td>\n",
              "      <td>3</td>\n",
              "      <td>3</td>\n",
              "      <td>0</td>\n",
              "      <td>3</td>\n",
              "      <td>0</td>\n",
              "      <td>0</td>\n",
              "      <td>1</td>\n",
              "      <td>0</td>\n",
              "      <td>0</td>\n",
              "      <td>0</td>\n",
              "      <td>1</td>\n",
              "      <td>1</td>\n",
              "      <td>0</td>\n",
              "      <td>1</td>\n",
              "    </tr>\n",
              "    <tr>\n",
              "      <th>8</th>\n",
              "      <td>85</td>\n",
              "      <td>20.63</td>\n",
              "      <td>4.95</td>\n",
              "      <td>24.23</td>\n",
              "      <td>12.96</td>\n",
              "      <td>67.36</td>\n",
              "      <td>31.00</td>\n",
              "      <td>9.44</td>\n",
              "      <td>19.07</td>\n",
              "      <td>18.52</td>\n",
              "      <td>7.34</td>\n",
              "      <td>3</td>\n",
              "      <td>1</td>\n",
              "      <td>3</td>\n",
              "      <td>3</td>\n",
              "      <td>6</td>\n",
              "      <td>3</td>\n",
              "      <td>3</td>\n",
              "      <td>7</td>\n",
              "      <td>1</td>\n",
              "      <td>3</td>\n",
              "      <td>3</td>\n",
              "      <td>2</td>\n",
              "      <td>4</td>\n",
              "      <td>1</td>\n",
              "      <td>4</td>\n",
              "      <td>3</td>\n",
              "      <td>2</td>\n",
              "      <td>2</td>\n",
              "      <td>3</td>\n",
              "      <td>3</td>\n",
              "    </tr>\n",
              "    <tr>\n",
              "      <th>9</th>\n",
              "      <td>89</td>\n",
              "      <td>0.00</td>\n",
              "      <td>0.00</td>\n",
              "      <td>0.00</td>\n",
              "      <td>0.00</td>\n",
              "      <td>0.00</td>\n",
              "      <td>0.00</td>\n",
              "      <td>0.00</td>\n",
              "      <td>0.00</td>\n",
              "      <td>0.00</td>\n",
              "      <td>0.00</td>\n",
              "      <td>0</td>\n",
              "      <td>0</td>\n",
              "      <td>0</td>\n",
              "      <td>0</td>\n",
              "      <td>0</td>\n",
              "      <td>0</td>\n",
              "      <td>0</td>\n",
              "      <td>0</td>\n",
              "      <td>0</td>\n",
              "      <td>0</td>\n",
              "      <td>0</td>\n",
              "      <td>0</td>\n",
              "      <td>0</td>\n",
              "      <td>0</td>\n",
              "      <td>0</td>\n",
              "      <td>0</td>\n",
              "      <td>0</td>\n",
              "      <td>0</td>\n",
              "      <td>0</td>\n",
              "      <td>0</td>\n",
              "    </tr>\n",
              "  </tbody>\n",
              "</table>\n",
              "</div>"
            ],
            "text/plain": [
              "   customer_id    vf1    vf2    vf3  ...  freq_f7  freq_f8  freq_f9  freq_f10\n",
              "0            8   0.00  21.61  24.23  ...        1        0        1         1\n",
              "1           25   0.00   0.00   0.00  ...        0        0        0         0\n",
              "2           47   7.31   0.00   0.00  ...        0        2        1         1\n",
              "3           56   0.00   0.00   0.00  ...        0        0        0         0\n",
              "4           60   0.00   0.00   0.00  ...        0        0        0         1\n",
              "5           62   0.00   0.00   0.00  ...        0        0        0         0\n",
              "6           66   0.00   0.00   0.00  ...        0        0        0         0\n",
              "7           69   0.00   0.00   6.75  ...        1        1        0         1\n",
              "8           85  20.63   4.95  24.23  ...        2        2        3         3\n",
              "9           89   0.00   0.00   0.00  ...        0        0        0         0\n",
              "\n",
              "[10 rows x 31 columns]"
            ]
          },
          "metadata": {
            "tags": []
          },
          "execution_count": 104
        }
      ]
    },
    {
      "cell_type": "markdown",
      "metadata": {
        "id": "XNgA9GfYzOex",
        "colab_type": "text"
      },
      "source": [
        "# Model Evaluation "
      ]
    },
    {
      "cell_type": "markdown",
      "metadata": {
        "id": "4D-S6EwBzUev",
        "colab_type": "text"
      },
      "source": [
        "Random forest:"
      ]
    },
    {
      "cell_type": "code",
      "metadata": {
        "id": "X9HEPeTd_scZ",
        "colab_type": "code",
        "outputId": "68637c8b-f68a-4ea7-d751-2cb4f7a761d9",
        "colab": {
          "base_uri": "https://localhost:8080/",
          "height": 433
        }
      },
      "source": [
        "from sklearn import metrics\n",
        "from datetime import date, timedelta\n",
        "import datetime\n",
        "from sklearn.ensemble import RandomForestClassifier\n",
        "tumbling_window_size = 7\n",
        "output_window_size = 27\n",
        "total_holdout = 8\n",
        "now= '2019-10-23'\n",
        "now_day= datetime.datetime.strptime(now, '%Y-%m-%d').date()\n",
        "model = RandomForestClassifier(n_estimators = 120)\n",
        "accuracy =[]\n",
        "precision =[]\n",
        "recall=[]\n",
        "for i in range(total_holdout):\n",
        "    test_x, test_y = get_dataset(str(now_day - timedelta(days=output_window_size)), tumbling_window_size, output_window_size)\n",
        "    test_x= test_x.loc[test_x['freq_f1'] > 0]\n",
        "    ind = list(test_x.index.values) \n",
        "    test_y = test_y.loc[test_y.index.isin(ind)]\n",
        "    train_x, train_y = get_dataset(str(now_day - 2*timedelta(days=output_window_size)), tumbling_window_size, output_window_size)\n",
        "    train_x= train_x.loc[train_x['freq_f1'] > 0]\n",
        "    ind = list(train_x.index.values)\n",
        "    train_y=train_y.loc[train_y.index.isin(ind)]\n",
        "    model.fit(train_x, train_y)\n",
        "    preds = model.predict(test_x)\n",
        "    accuracy1= metrics.accuracy_score(test_y, preds)\n",
        "    precision1 = metrics.precision_score(test_y, preds, pos_label=1)\n",
        "    recall1 = metrics.recall_score(test_y, preds, pos_label=1)\n",
        "    accuracy.append(accuracy1)\n",
        "    precision.append(precision1)\n",
        "    recall.append(recall1)\n",
        "    now_day = now_day - timedelta(days=output_window_size)\n",
        "print('accuracy_RF: ',np.mean(accuracy) )\n",
        "print('Precision_RF: ',np.mean(precision) )\n",
        "print('Recall_RF: ',np.mean(recall))"
      ],
      "execution_count": 190,
      "outputs": [
        {
          "output_type": "stream",
          "text": [
            "2020-06-08 13:51:52,050| ERROR   | Could not establish connection from ('127.0.0.1', 35122) to remote side of the tunnel\n"
          ],
          "name": "stderr"
        },
        {
          "output_type": "error",
          "ename": "OperationalError",
          "evalue": "ignored",
          "traceback": [
            "\u001b[0;31m---------------------------------------------------------------------------\u001b[0m",
            "\u001b[0;31mOperationalError\u001b[0m                          Traceback (most recent call last)",
            "\u001b[0;32m<ipython-input-190-c199e040138d>\u001b[0m in \u001b[0;36m<module>\u001b[0;34m()\u001b[0m\n\u001b[1;32m     13\u001b[0m \u001b[0mrecall\u001b[0m\u001b[0;34m=\u001b[0m\u001b[0;34m[\u001b[0m\u001b[0;34m]\u001b[0m\u001b[0;34m\u001b[0m\u001b[0;34m\u001b[0m\u001b[0m\n\u001b[1;32m     14\u001b[0m \u001b[0;32mfor\u001b[0m \u001b[0mi\u001b[0m \u001b[0;32min\u001b[0m \u001b[0mrange\u001b[0m\u001b[0;34m(\u001b[0m\u001b[0mtotal_holdout\u001b[0m\u001b[0;34m)\u001b[0m\u001b[0;34m:\u001b[0m\u001b[0;34m\u001b[0m\u001b[0;34m\u001b[0m\u001b[0m\n\u001b[0;32m---> 15\u001b[0;31m     \u001b[0mtest_x\u001b[0m\u001b[0;34m,\u001b[0m \u001b[0mtest_y\u001b[0m \u001b[0;34m=\u001b[0m \u001b[0mget_dataset\u001b[0m\u001b[0;34m(\u001b[0m\u001b[0mstr\u001b[0m\u001b[0;34m(\u001b[0m\u001b[0mnow_day\u001b[0m \u001b[0;34m-\u001b[0m \u001b[0mtimedelta\u001b[0m\u001b[0;34m(\u001b[0m\u001b[0mdays\u001b[0m\u001b[0;34m=\u001b[0m\u001b[0moutput_window_size\u001b[0m\u001b[0;34m)\u001b[0m\u001b[0;34m)\u001b[0m\u001b[0;34m,\u001b[0m \u001b[0mtumbling_window_size\u001b[0m\u001b[0;34m,\u001b[0m \u001b[0moutput_window_size\u001b[0m\u001b[0;34m)\u001b[0m\u001b[0;34m\u001b[0m\u001b[0;34m\u001b[0m\u001b[0m\n\u001b[0m\u001b[1;32m     16\u001b[0m     \u001b[0mtest_x\u001b[0m\u001b[0;34m=\u001b[0m \u001b[0mtest_x\u001b[0m\u001b[0;34m.\u001b[0m\u001b[0mloc\u001b[0m\u001b[0;34m[\u001b[0m\u001b[0mtest_x\u001b[0m\u001b[0;34m[\u001b[0m\u001b[0;34m'freq_f1'\u001b[0m\u001b[0;34m]\u001b[0m \u001b[0;34m>\u001b[0m \u001b[0;36m0\u001b[0m\u001b[0;34m]\u001b[0m\u001b[0;34m\u001b[0m\u001b[0;34m\u001b[0m\u001b[0m\n\u001b[1;32m     17\u001b[0m     \u001b[0mind\u001b[0m \u001b[0;34m=\u001b[0m \u001b[0mlist\u001b[0m\u001b[0;34m(\u001b[0m\u001b[0mtest_x\u001b[0m\u001b[0;34m.\u001b[0m\u001b[0mindex\u001b[0m\u001b[0;34m.\u001b[0m\u001b[0mvalues\u001b[0m\u001b[0;34m)\u001b[0m\u001b[0;34m\u001b[0m\u001b[0;34m\u001b[0m\u001b[0m\n",
            "\u001b[0;32m<ipython-input-178-cf2180d2ca9e>\u001b[0m in \u001b[0;36mget_dataset\u001b[0;34m(reference_day, tumbling_window_size, output_window_size, num_periods, window_agg_fun, window_agg_fun2, window_agg_fun3, output_fun)\u001b[0m\n\u001b[1;32m     26\u001b[0m     \u001b[0msql\u001b[0m \u001b[0;34m=\u001b[0m \u001b[0msql\u001b[0m\u001b[0;34m[\u001b[0m\u001b[0;34m:\u001b[0m\u001b[0;34m-\u001b[0m\u001b[0;36m2\u001b[0m\u001b[0;34m]\u001b[0m \u001b[0;34m+\u001b[0m \u001b[0msql_bottom\u001b[0m\u001b[0;34m\u001b[0m\u001b[0;34m\u001b[0m\u001b[0m\n\u001b[1;32m     27\u001b[0m \u001b[0;34m\u001b[0m\u001b[0m\n\u001b[0;32m---> 28\u001b[0;31m     \u001b[0;32mwith\u001b[0m \u001b[0mpsycopg2\u001b[0m\u001b[0;34m.\u001b[0m\u001b[0mconnect\u001b[0m\u001b[0;34m(\u001b[0m\u001b[0;34m\"host='{}' dbname='nlab' user='{}' password='{}'\"\u001b[0m\u001b[0;34m.\u001b[0m\u001b[0mformat\u001b[0m\u001b[0;34m(\u001b[0m\u001b[0mdb_ip\u001b[0m\u001b[0;34m,\u001b[0m \u001b[0muser\u001b[0m\u001b[0;34m,\u001b[0m \u001b[0mpw\u001b[0m\u001b[0;34m)\u001b[0m\u001b[0;34m)\u001b[0m \u001b[0;32mas\u001b[0m \u001b[0mconn\u001b[0m\u001b[0;34m:\u001b[0m\u001b[0;34m\u001b[0m\u001b[0;34m\u001b[0m\u001b[0m\n\u001b[0m\u001b[1;32m     29\u001b[0m         \u001b[0mdf\u001b[0m \u001b[0;34m=\u001b[0m \u001b[0mpd\u001b[0m\u001b[0;34m.\u001b[0m\u001b[0mread_sql\u001b[0m\u001b[0;34m(\u001b[0m\u001b[0msql\u001b[0m\u001b[0;34m,\u001b[0m \u001b[0mconn\u001b[0m\u001b[0;34m,\u001b[0m \u001b[0mparams\u001b[0m \u001b[0;34m=\u001b[0m \u001b[0;34m{\u001b[0m\u001b[0;34m'ref_date'\u001b[0m\u001b[0;34m:\u001b[0m\u001b[0mreference_day\u001b[0m\u001b[0;34m,\u001b[0m \u001b[0;34m'ws'\u001b[0m\u001b[0;34m:\u001b[0m\u001b[0mtumbling_window_size\u001b[0m\u001b[0;34m,\u001b[0m \u001b[0;34m'ows'\u001b[0m\u001b[0;34m:\u001b[0m\u001b[0moutput_window_size\u001b[0m\u001b[0;34m}\u001b[0m\u001b[0;34m)\u001b[0m\u001b[0;34m\u001b[0m\u001b[0;34m\u001b[0m\u001b[0m\n\u001b[1;32m     30\u001b[0m         \u001b[0mdf\u001b[0m\u001b[0;34m.\u001b[0m\u001b[0mset_index\u001b[0m\u001b[0;34m(\u001b[0m\u001b[0;34m'customer_id'\u001b[0m\u001b[0;34m)\u001b[0m\u001b[0;34m\u001b[0m\u001b[0;34m\u001b[0m\u001b[0m\n",
            "\u001b[0;32m/usr/local/lib/python3.6/dist-packages/nlabproxypostgres.py\u001b[0m in \u001b[0;36m__enter__\u001b[0;34m(self)\u001b[0m\n\u001b[1;32m     71\u001b[0m             \u001b[0;32mdel\u001b[0m \u001b[0msys\u001b[0m\u001b[0;34m.\u001b[0m\u001b[0mmodules\u001b[0m\u001b[0;34m[\u001b[0m\u001b[0;34m'psycopg2'\u001b[0m\u001b[0;34m]\u001b[0m\u001b[0;34m\u001b[0m\u001b[0;34m\u001b[0m\u001b[0m\n\u001b[1;32m     72\u001b[0m         \u001b[0;32mimport\u001b[0m \u001b[0mpsycopg2\u001b[0m\u001b[0;34m\u001b[0m\u001b[0;34m\u001b[0m\u001b[0m\n\u001b[0;32m---> 73\u001b[0;31m         \u001b[0mself\u001b[0m\u001b[0;34m.\u001b[0m\u001b[0mconn\u001b[0m \u001b[0;34m=\u001b[0m \u001b[0mpsycopg2\u001b[0m\u001b[0;34m.\u001b[0m\u001b[0mconnect\u001b[0m\u001b[0;34m(\u001b[0m \u001b[0mconn_str\u001b[0m \u001b[0;34m)\u001b[0m\u001b[0;34m\u001b[0m\u001b[0;34m\u001b[0m\u001b[0m\n\u001b[0m\u001b[1;32m     74\u001b[0m         \u001b[0;31m#print(self.conn)\u001b[0m\u001b[0;34m\u001b[0m\u001b[0;34m\u001b[0m\u001b[0;34m\u001b[0m\u001b[0m\n\u001b[1;32m     75\u001b[0m         \u001b[0;32mreturn\u001b[0m \u001b[0mself\u001b[0m\u001b[0;34m.\u001b[0m\u001b[0mconn\u001b[0m\u001b[0;34m\u001b[0m\u001b[0;34m\u001b[0m\u001b[0m\n",
            "\u001b[0;32m/usr/local/lib/python3.6/dist-packages/psycopg2/__init__.py\u001b[0m in \u001b[0;36mconnect\u001b[0;34m(dsn, connection_factory, cursor_factory, **kwargs)\u001b[0m\n\u001b[1;32m    125\u001b[0m \u001b[0;34m\u001b[0m\u001b[0m\n\u001b[1;32m    126\u001b[0m     \u001b[0mdsn\u001b[0m \u001b[0;34m=\u001b[0m \u001b[0m_ext\u001b[0m\u001b[0;34m.\u001b[0m\u001b[0mmake_dsn\u001b[0m\u001b[0;34m(\u001b[0m\u001b[0mdsn\u001b[0m\u001b[0;34m,\u001b[0m \u001b[0;34m**\u001b[0m\u001b[0mkwargs\u001b[0m\u001b[0;34m)\u001b[0m\u001b[0;34m\u001b[0m\u001b[0;34m\u001b[0m\u001b[0m\n\u001b[0;32m--> 127\u001b[0;31m     \u001b[0mconn\u001b[0m \u001b[0;34m=\u001b[0m \u001b[0m_connect\u001b[0m\u001b[0;34m(\u001b[0m\u001b[0mdsn\u001b[0m\u001b[0;34m,\u001b[0m \u001b[0mconnection_factory\u001b[0m\u001b[0;34m=\u001b[0m\u001b[0mconnection_factory\u001b[0m\u001b[0;34m,\u001b[0m \u001b[0;34m**\u001b[0m\u001b[0mkwasync\u001b[0m\u001b[0;34m)\u001b[0m\u001b[0;34m\u001b[0m\u001b[0;34m\u001b[0m\u001b[0m\n\u001b[0m\u001b[1;32m    128\u001b[0m     \u001b[0;32mif\u001b[0m \u001b[0mcursor_factory\u001b[0m \u001b[0;32mis\u001b[0m \u001b[0;32mnot\u001b[0m \u001b[0;32mNone\u001b[0m\u001b[0;34m:\u001b[0m\u001b[0;34m\u001b[0m\u001b[0;34m\u001b[0m\u001b[0m\n\u001b[1;32m    129\u001b[0m         \u001b[0mconn\u001b[0m\u001b[0;34m.\u001b[0m\u001b[0mcursor_factory\u001b[0m \u001b[0;34m=\u001b[0m \u001b[0mcursor_factory\u001b[0m\u001b[0;34m\u001b[0m\u001b[0;34m\u001b[0m\u001b[0m\n",
            "\u001b[0;31mOperationalError\u001b[0m: server closed the connection unexpectedly\n\tThis probably means the server terminated abnormally\n\tbefore or while processing the request.\n"
          ]
        }
      ]
    },
    {
      "cell_type": "markdown",
      "metadata": {
        "id": "DTNYs5e1zgq0",
        "colab_type": "text"
      },
      "source": [
        "Support Vector Classifier:"
      ]
    },
    {
      "cell_type": "code",
      "metadata": {
        "id": "PLZjv0ijFS9v",
        "colab_type": "code",
        "outputId": "a43ab2ef-cf5e-4700-8477-8a600d6992e2",
        "colab": {
          "base_uri": "https://localhost:8080/",
          "height": 139
        }
      },
      "source": [
        "from datetime import date, timedelta\n",
        "import datetime\n",
        "from sklearn.svm import SVC\n",
        "clf = SVC(kernel='rbf', gamma=1, random_state=42)\n",
        "tumbling_window_size = 7\n",
        "output_window_size = 27\n",
        "total_holdout = 8\n",
        "now= '2019-10-23'\n",
        "now_day= datetime.datetime.strptime(now, '%Y-%m-%d').date()\n",
        "accuracy =[]\n",
        "precision =[]\n",
        "recall=[]\n",
        "for i in range(total_holdout):\n",
        "    test_x, test_y = get_dataset(str(now_day - timedelta(days=output_window_size)), tumbling_window_size, output_window_size)\n",
        "    test_x= test_x.loc[test_x['freq_f1'] > 0]\n",
        "    ind = list(test_x.index.values) \n",
        "    test_y = test_y.loc[test_y.index.isin(ind)]\n",
        "    train_x, train_y = get_dataset(str(now_day - 2*timedelta(days=output_window_size)), tumbling_window_size, output_window_size)\n",
        "    train_x= train_x.loc[train_x['freq_f1'] > 0]\n",
        "    ind = list(train_x.index.values)\n",
        "    train_y=train_y.loc[train_y.index.isin(ind)]\n",
        "    clf.fit(train_x, train_y)\n",
        "    preds = clf.predict(test_x)\n",
        "    accuracy1= metrics.accuracy_score(test_y, preds)\n",
        "    precision1 = metrics.precision_score(test_y, preds, pos_label=1)\n",
        "    recall1 = metrics.recall_score(test_y, preds, pos_label=1)\n",
        "    accuracy.append(accuracy1)\n",
        "    precision.append(precision1)\n",
        "    recall.append(recall1)\n",
        "    now_day = now_day - timedelta(days=output_window_size)\n",
        "print('accuracy_svc: ',np.mean(accuracy) )\n",
        "print('Precision_svc: ',np.mean(precision) )\n",
        "print('Recall_svc: ',np.mean(recall))"
      ],
      "execution_count": 0,
      "outputs": [
        {
          "output_type": "stream",
          "text": [
            "working\n",
            "working\n",
            "working\n",
            "working\n",
            "accuracy_svc:  0.7621885296603204\n",
            "Precision_svc:  0.7621885296603204\n",
            "Recall_svc:  1.0\n"
          ],
          "name": "stdout"
        }
      ]
    },
    {
      "cell_type": "markdown",
      "metadata": {
        "id": "EDTtupIpz0EM",
        "colab_type": "text"
      },
      "source": [
        "Decision Tree classifier:"
      ]
    },
    {
      "cell_type": "code",
      "metadata": {
        "id": "2-1RNtu5kQA5",
        "colab_type": "code",
        "outputId": "f89531d5-1cdb-4a39-f3e7-21bb32620713",
        "colab": {
          "base_uri": "https://localhost:8080/",
          "height": 415
        }
      },
      "source": [
        "from datetime import date, timedelta\n",
        "import datetime\n",
        "from sklearn import tree\n",
        "tree_clf = tree.DecisionTreeClassifier(random_state=42, max_depth=20)\n",
        "tumbling_window_size = 27\n",
        "output_window_size = 7\n",
        "total_holdout = 8\n",
        "now= '2019-10-23'\n",
        "now_day= datetime.datetime.strptime(now, '%Y-%m-%d').date()\n",
        "accuracy =[]\n",
        "precision =[]\n",
        "recall=[]\n",
        "for i in range(total_holdout):\n",
        "    test_x, test_y = get_dataset(str(now_day - timedelta(days=output_window_size)), tumbling_window_size, output_window_size)\n",
        "    test_x= test_x.loc[test_x['freq_f1'] > 0]\n",
        "    ind = list(test_x.index.values) \n",
        "    test_y = test_y.loc[test_y.index.isin(ind)]\n",
        "    train_x, train_y = get_dataset(str(now_day - 2*timedelta(days=output_window_size)), tumbling_window_size, output_window_size)\n",
        "    train_x= train_x.loc[train_x['freq_f1'] > 0]\n",
        "    ind = list(train_x.index.values)\n",
        "    train_y=train_y.loc[train_y.index.isin(ind)]\n",
        "    tree_clf.fit(train_x, train_y)\n",
        "    preds = tree_clf.predict(test_x)\n",
        "    accuracy1= metrics.accuracy_score(test_y, preds)\n",
        "    precision1 = metrics.precision_score(test_y, preds, pos_label=1)\n",
        "    recall1 = metrics.recall_score(test_y, preds, pos_label=1)\n",
        "    accuracy.append(accuracy1)\n",
        "    precision.append(precision1)\n",
        "    recall.append(recall1)\n",
        "    now_day = now_day - timedelta(days=output_window_size)\n",
        "print('accuracy_DT: ',np.mean(accuracy) )\n",
        "print('Precision_DT: ',np.mean(precision) )\n",
        "print('Recall_DT: ',np.mean(recall))"
      ],
      "execution_count": 142,
      "outputs": [
        {
          "output_type": "stream",
          "text": [
            "working\n"
          ],
          "name": "stdout"
        },
        {
          "output_type": "stream",
          "text": [
            "2020-06-08 13:10:58,887| ERROR   | Problem setting SSH Forwarder up: Couldn't open tunnel 0.0.0.0:7122 <> 10.158.72.122:5432 might be in use or destination not reachable\n"
          ],
          "name": "stderr"
        },
        {
          "output_type": "error",
          "ename": "HandlerSSHTunnelForwarderError",
          "evalue": "ignored",
          "traceback": [
            "\u001b[0;31m---------------------------------------------------------------------------\u001b[0m",
            "\u001b[0;31mHandlerSSHTunnelForwarderError\u001b[0m            Traceback (most recent call last)",
            "\u001b[0;32m<ipython-input-142-4553df177c64>\u001b[0m in \u001b[0;36m<module>\u001b[0;34m()\u001b[0m\n\u001b[1;32m     12\u001b[0m \u001b[0mrecall\u001b[0m\u001b[0;34m=\u001b[0m\u001b[0;34m[\u001b[0m\u001b[0;34m]\u001b[0m\u001b[0;34m\u001b[0m\u001b[0;34m\u001b[0m\u001b[0m\n\u001b[1;32m     13\u001b[0m \u001b[0;32mfor\u001b[0m \u001b[0mi\u001b[0m \u001b[0;32min\u001b[0m \u001b[0mrange\u001b[0m\u001b[0;34m(\u001b[0m\u001b[0mtotal_holdout\u001b[0m\u001b[0;34m)\u001b[0m\u001b[0;34m:\u001b[0m\u001b[0;34m\u001b[0m\u001b[0;34m\u001b[0m\u001b[0m\n\u001b[0;32m---> 14\u001b[0;31m     \u001b[0mtest_x\u001b[0m\u001b[0;34m,\u001b[0m \u001b[0mtest_y\u001b[0m \u001b[0;34m=\u001b[0m \u001b[0mget_dataset\u001b[0m\u001b[0;34m(\u001b[0m\u001b[0mstr\u001b[0m\u001b[0;34m(\u001b[0m\u001b[0mnow_day\u001b[0m \u001b[0;34m-\u001b[0m \u001b[0mtimedelta\u001b[0m\u001b[0;34m(\u001b[0m\u001b[0mdays\u001b[0m\u001b[0;34m=\u001b[0m\u001b[0moutput_window_size\u001b[0m\u001b[0;34m)\u001b[0m\u001b[0;34m)\u001b[0m\u001b[0;34m,\u001b[0m \u001b[0mtumbling_window_size\u001b[0m\u001b[0;34m,\u001b[0m \u001b[0moutput_window_size\u001b[0m\u001b[0;34m)\u001b[0m\u001b[0;34m\u001b[0m\u001b[0;34m\u001b[0m\u001b[0m\n\u001b[0m\u001b[1;32m     15\u001b[0m     \u001b[0mtest_x\u001b[0m\u001b[0;34m=\u001b[0m \u001b[0mtest_x\u001b[0m\u001b[0;34m.\u001b[0m\u001b[0mloc\u001b[0m\u001b[0;34m[\u001b[0m\u001b[0mtest_x\u001b[0m\u001b[0;34m[\u001b[0m\u001b[0;34m'freq_f1'\u001b[0m\u001b[0;34m]\u001b[0m \u001b[0;34m>\u001b[0m \u001b[0;36m0\u001b[0m\u001b[0;34m]\u001b[0m\u001b[0;34m\u001b[0m\u001b[0;34m\u001b[0m\u001b[0m\n\u001b[1;32m     16\u001b[0m     \u001b[0mind\u001b[0m \u001b[0;34m=\u001b[0m \u001b[0mlist\u001b[0m\u001b[0;34m(\u001b[0m\u001b[0mtest_x\u001b[0m\u001b[0;34m.\u001b[0m\u001b[0mindex\u001b[0m\u001b[0;34m.\u001b[0m\u001b[0mvalues\u001b[0m\u001b[0;34m)\u001b[0m\u001b[0;34m\u001b[0m\u001b[0;34m\u001b[0m\u001b[0m\n",
            "\u001b[0;32m<ipython-input-102-cf2180d2ca9e>\u001b[0m in \u001b[0;36mget_dataset\u001b[0;34m(reference_day, tumbling_window_size, output_window_size, num_periods, window_agg_fun, window_agg_fun2, window_agg_fun3, output_fun)\u001b[0m\n\u001b[1;32m     26\u001b[0m     \u001b[0msql\u001b[0m \u001b[0;34m=\u001b[0m \u001b[0msql\u001b[0m\u001b[0;34m[\u001b[0m\u001b[0;34m:\u001b[0m\u001b[0;34m-\u001b[0m\u001b[0;36m2\u001b[0m\u001b[0;34m]\u001b[0m \u001b[0;34m+\u001b[0m \u001b[0msql_bottom\u001b[0m\u001b[0;34m\u001b[0m\u001b[0;34m\u001b[0m\u001b[0m\n\u001b[1;32m     27\u001b[0m \u001b[0;34m\u001b[0m\u001b[0m\n\u001b[0;32m---> 28\u001b[0;31m     \u001b[0;32mwith\u001b[0m \u001b[0mpsycopg2\u001b[0m\u001b[0;34m.\u001b[0m\u001b[0mconnect\u001b[0m\u001b[0;34m(\u001b[0m\u001b[0;34m\"host='{}' dbname='nlab' user='{}' password='{}'\"\u001b[0m\u001b[0;34m.\u001b[0m\u001b[0mformat\u001b[0m\u001b[0;34m(\u001b[0m\u001b[0mdb_ip\u001b[0m\u001b[0;34m,\u001b[0m \u001b[0muser\u001b[0m\u001b[0;34m,\u001b[0m \u001b[0mpw\u001b[0m\u001b[0;34m)\u001b[0m\u001b[0;34m)\u001b[0m \u001b[0;32mas\u001b[0m \u001b[0mconn\u001b[0m\u001b[0;34m:\u001b[0m\u001b[0;34m\u001b[0m\u001b[0;34m\u001b[0m\u001b[0m\n\u001b[0m\u001b[1;32m     29\u001b[0m         \u001b[0mdf\u001b[0m \u001b[0;34m=\u001b[0m \u001b[0mpd\u001b[0m\u001b[0;34m.\u001b[0m\u001b[0mread_sql\u001b[0m\u001b[0;34m(\u001b[0m\u001b[0msql\u001b[0m\u001b[0;34m,\u001b[0m \u001b[0mconn\u001b[0m\u001b[0;34m,\u001b[0m \u001b[0mparams\u001b[0m \u001b[0;34m=\u001b[0m \u001b[0;34m{\u001b[0m\u001b[0;34m'ref_date'\u001b[0m\u001b[0;34m:\u001b[0m\u001b[0mreference_day\u001b[0m\u001b[0;34m,\u001b[0m \u001b[0;34m'ws'\u001b[0m\u001b[0;34m:\u001b[0m\u001b[0mtumbling_window_size\u001b[0m\u001b[0;34m,\u001b[0m \u001b[0;34m'ows'\u001b[0m\u001b[0;34m:\u001b[0m\u001b[0moutput_window_size\u001b[0m\u001b[0;34m}\u001b[0m\u001b[0;34m)\u001b[0m\u001b[0;34m\u001b[0m\u001b[0;34m\u001b[0m\u001b[0m\n\u001b[1;32m     30\u001b[0m         \u001b[0mdf\u001b[0m\u001b[0;34m.\u001b[0m\u001b[0mset_index\u001b[0m\u001b[0;34m(\u001b[0m\u001b[0;34m'customer_id'\u001b[0m\u001b[0;34m)\u001b[0m\u001b[0;34m\u001b[0m\u001b[0;34m\u001b[0m\u001b[0m\n",
            "\u001b[0;32m/usr/local/lib/python3.6/dist-packages/nlabproxypostgres.py\u001b[0m in \u001b[0;36m__enter__\u001b[0;34m(self)\u001b[0m\n\u001b[1;32m     62\u001b[0m \u001b[0;34m\u001b[0m\u001b[0m\n\u001b[1;32m     63\u001b[0m \u001b[0;34m\u001b[0m\u001b[0m\n\u001b[0;32m---> 64\u001b[0;31m         \u001b[0mself\u001b[0m\u001b[0;34m.\u001b[0m\u001b[0mserver\u001b[0m\u001b[0;34m.\u001b[0m\u001b[0mstart\u001b[0m\u001b[0;34m(\u001b[0m\u001b[0;34m)\u001b[0m\u001b[0;34m\u001b[0m\u001b[0;34m\u001b[0m\u001b[0m\n\u001b[0m\u001b[1;32m     65\u001b[0m \u001b[0;34m\u001b[0m\u001b[0m\n\u001b[1;32m     66\u001b[0m         \u001b[0;31m#print('done starting server')\u001b[0m\u001b[0;34m\u001b[0m\u001b[0;34m\u001b[0m\u001b[0;34m\u001b[0m\u001b[0m\n",
            "\u001b[0;32m/usr/local/lib/python3.6/dist-packages/sshtunnel.py\u001b[0m in \u001b[0;36mstart\u001b[0;34m(self)\u001b[0m\n\u001b[1;32m   1305\u001b[0m         \u001b[0;32mif\u001b[0m \u001b[0;32mnot\u001b[0m \u001b[0mself\u001b[0m\u001b[0;34m.\u001b[0m\u001b[0mis_alive\u001b[0m\u001b[0;34m:\u001b[0m\u001b[0;34m\u001b[0m\u001b[0;34m\u001b[0m\u001b[0m\n\u001b[1;32m   1306\u001b[0m             self._raise(HandlerSSHTunnelForwarderError,\n\u001b[0;32m-> 1307\u001b[0;31m                         'An error occurred while opening tunnels.')\n\u001b[0m\u001b[1;32m   1308\u001b[0m \u001b[0;34m\u001b[0m\u001b[0m\n\u001b[1;32m   1309\u001b[0m     \u001b[0;32mdef\u001b[0m \u001b[0mstop\u001b[0m\u001b[0;34m(\u001b[0m\u001b[0mself\u001b[0m\u001b[0;34m)\u001b[0m\u001b[0;34m:\u001b[0m\u001b[0;34m\u001b[0m\u001b[0;34m\u001b[0m\u001b[0m\n",
            "\u001b[0;32m/usr/local/lib/python3.6/dist-packages/sshtunnel.py\u001b[0m in \u001b[0;36m_raise\u001b[0;34m(self, exception, reason)\u001b[0m\n\u001b[1;32m   1098\u001b[0m     \u001b[0;32mdef\u001b[0m \u001b[0m_raise\u001b[0m\u001b[0;34m(\u001b[0m\u001b[0mself\u001b[0m\u001b[0;34m,\u001b[0m \u001b[0mexception\u001b[0m\u001b[0;34m=\u001b[0m\u001b[0mBaseSSHTunnelForwarderError\u001b[0m\u001b[0;34m,\u001b[0m \u001b[0mreason\u001b[0m\u001b[0;34m=\u001b[0m\u001b[0;32mNone\u001b[0m\u001b[0;34m)\u001b[0m\u001b[0;34m:\u001b[0m\u001b[0;34m\u001b[0m\u001b[0;34m\u001b[0m\u001b[0m\n\u001b[1;32m   1099\u001b[0m         \u001b[0;32mif\u001b[0m \u001b[0mself\u001b[0m\u001b[0;34m.\u001b[0m\u001b[0m_raise_fwd_exc\u001b[0m\u001b[0;34m:\u001b[0m\u001b[0;34m\u001b[0m\u001b[0;34m\u001b[0m\u001b[0m\n\u001b[0;32m-> 1100\u001b[0;31m             \u001b[0;32mraise\u001b[0m \u001b[0mexception\u001b[0m\u001b[0;34m(\u001b[0m\u001b[0mreason\u001b[0m\u001b[0;34m)\u001b[0m\u001b[0;34m\u001b[0m\u001b[0;34m\u001b[0m\u001b[0m\n\u001b[0m\u001b[1;32m   1101\u001b[0m         \u001b[0;32melse\u001b[0m\u001b[0;34m:\u001b[0m\u001b[0;34m\u001b[0m\u001b[0;34m\u001b[0m\u001b[0m\n\u001b[1;32m   1102\u001b[0m             \u001b[0mself\u001b[0m\u001b[0;34m.\u001b[0m\u001b[0mlogger\u001b[0m\u001b[0;34m.\u001b[0m\u001b[0merror\u001b[0m\u001b[0;34m(\u001b[0m\u001b[0mrepr\u001b[0m\u001b[0;34m(\u001b[0m\u001b[0mexception\u001b[0m\u001b[0;34m(\u001b[0m\u001b[0mreason\u001b[0m\u001b[0;34m)\u001b[0m\u001b[0;34m)\u001b[0m\u001b[0;34m)\u001b[0m\u001b[0;34m\u001b[0m\u001b[0;34m\u001b[0m\u001b[0m\n",
            "\u001b[0;31mHandlerSSHTunnelForwarderError\u001b[0m: An error occurred while opening tunnels."
          ]
        }
      ]
    },
    {
      "cell_type": "markdown",
      "metadata": {
        "id": "fQkyxrf40UyH",
        "colab_type": "text"
      },
      "source": [
        "# Final Prediction"
      ]
    },
    {
      "cell_type": "code",
      "metadata": {
        "id": "UbMkvspEnvup",
        "colab_type": "code",
        "outputId": "2c33eb27-0ded-4278-e6eb-a85823e896e6",
        "colab": {
          "base_uri": "https://localhost:8080/",
          "height": 329
        }
      },
      "source": [
        "from sklearn import metrics\n",
        "from datetime import date, timedelta\n",
        "import datetime\n",
        "from sklearn.ensemble import RandomForestClassifier\n",
        "from imblearn.over_sampling import SMOTE\n",
        "tumbling_window_size = 7\n",
        "output_window_size = 27\n",
        "total_holdout = 8\n",
        "now= '2019-11-19'\n",
        "now_day= datetime.datetime.strptime(now, '%Y-%m-%d').date()\n",
        "model = RandomForestClassifier(n_estimators = 100)\n",
        "for i in range(total_holdout):\n",
        "    test_x, test_y = get_dataset(str(now_day - timedelta(days=output_window_size)), tumbling_window_size, output_window_size)\n",
        "    test_x= test_x.loc[test_x['freq_f1'] > 0]\n",
        "    ind = list(test_x.index.values) \n",
        "    test_y = test_y.loc[test_y.index.isin(ind)]\n",
        "    train_x, train_y = get_dataset(str(now_day - 2*timedelta(days=output_window_size)), tumbling_window_size, output_window_size)\n",
        "    train_x= train_x.loc[train_x['freq_f1'] > 0]\n",
        "    ind = list(train_x.index.values)\n",
        "    train_y=train_y.loc[train_y.index.isin(ind)]\n",
        "    model.fit(train_x, train_y)\n",
        "    preds = model.predict(test_x)\n",
        "print(model.predict(test_x))"
      ],
      "execution_count": 122,
      "outputs": [
        {
          "output_type": "stream",
          "text": [
            "working\n",
            "working\n",
            "working\n",
            "working\n",
            "[1 1 1 0 0 1 1 1 1 0 0 1 0 0 0 0 1 0 0 0 0 1 0 0 0 0 0 1 1 1 1 0 0 0 0 0 0\n",
            " 0 1 0 0 0 1 0 0 0 0 0 0 0 0 0 0 0 1 0 0 0 0 1 1 1 0 0 1 0 0 0 0 0 0 0 1 0\n",
            " 0 1 0 0 0 1 1 1 0 1 0 0 0 1 1 0 0 1 0 0 0 0 1 1 1 0 0 0 0 0 0 0 0 0 0 0 0\n",
            " 0 1 0 1 0 0 1 1 1 0 1 1 1 0 1 0 1 0 0 0 1 1 0 0 1 0 0 0 0 1 0 1 0 0 1 0 0\n",
            " 0 0 1 1 1 0 1 0 0 0 1 0 0 1 0 1 0 0 0 0 0 1 1 0 0 1 1 0 0 0 0 1 0 0 0 1 1\n",
            " 0 0 1 0 1 0 0 0 1 0 1 0 0 1 0 1 0 1 0 1 0 0 1 0 0 0 0 0 0 0 0 0 1 1 0 0 1\n",
            " 1 0 0 1 0 1 0 0 0 1 0 0 0 0 0 1 1 0 0 0 0 0 1 0 1 1 1 0 0 1 0 0 0 0 1 1 1\n",
            " 0 0 1 0 1 0 0 0 0 0 0 0 0 0 1 0 1 0 0 0 1 0 0 0 0 0 1 0 0 0 0 0 1 1 0 0 1\n",
            " 0 1 1 0 1 1 0 0 1 0 1 1 0 0 0 0 0 1 0 1 1 0 1 1 1 1 0 0 0 0 0 0 0 0 1 1 0\n",
            " 0 0 0 0 0 0 1 0 0 0 1 1 0 0 0 0 0 0 1 0 0 1 0 1 0 0 0 0 0 0 1 0 0 1 0 1 0\n",
            " 1 1 1 1 0 0 0 0 1 0 1 0 0 0 1 0 0 0 0 0 0 1 0 1 1 1 0 0 1 0 1 0 0 0 0 0 0\n",
            " 0 0 0 0 0 1 0 0 0 0 0 0 1 0 0 1 0 1 0 1 1 1 0 1 0 0 0 0 0 0 0 0 0 0 1 0 0\n",
            " 0 1 1 1 0 0 0 0 0 0 0 0 0 0 0 0 0 0 0 0 1 0 1 1 0 0 0 0 0 0 1 0 1 1 0 0 0\n",
            " 0 0 0 0 0 0 0 0]\n"
          ],
          "name": "stdout"
        }
      ]
    },
    {
      "cell_type": "code",
      "metadata": {
        "id": "e6tXg0cJGrQQ",
        "colab_type": "code",
        "outputId": "c90886d0-25a1-440f-bd0d-230bf9a343a8",
        "colab": {
          "base_uri": "https://localhost:8080/",
          "height": 415
        }
      },
      "source": [
        "df_pred = pd.DataFrame(preds, index=test_x.index, columns=['preds'])\n",
        "df_pred"
      ],
      "execution_count": 123,
      "outputs": [
        {
          "output_type": "execute_result",
          "data": {
            "text/html": [
              "<div>\n",
              "<style scoped>\n",
              "    .dataframe tbody tr th:only-of-type {\n",
              "        vertical-align: middle;\n",
              "    }\n",
              "\n",
              "    .dataframe tbody tr th {\n",
              "        vertical-align: top;\n",
              "    }\n",
              "\n",
              "    .dataframe thead th {\n",
              "        text-align: right;\n",
              "    }\n",
              "</style>\n",
              "<table border=\"1\" class=\"dataframe\">\n",
              "  <thead>\n",
              "    <tr style=\"text-align: right;\">\n",
              "      <th></th>\n",
              "      <th>preds</th>\n",
              "    </tr>\n",
              "  </thead>\n",
              "  <tbody>\n",
              "    <tr>\n",
              "      <th>2</th>\n",
              "      <td>1</td>\n",
              "    </tr>\n",
              "    <tr>\n",
              "      <th>7</th>\n",
              "      <td>1</td>\n",
              "    </tr>\n",
              "    <tr>\n",
              "      <th>8</th>\n",
              "      <td>1</td>\n",
              "    </tr>\n",
              "    <tr>\n",
              "      <th>10</th>\n",
              "      <td>0</td>\n",
              "    </tr>\n",
              "    <tr>\n",
              "      <th>11</th>\n",
              "      <td>0</td>\n",
              "    </tr>\n",
              "    <tr>\n",
              "      <th>...</th>\n",
              "      <td>...</td>\n",
              "    </tr>\n",
              "    <tr>\n",
              "      <th>1613</th>\n",
              "      <td>0</td>\n",
              "    </tr>\n",
              "    <tr>\n",
              "      <th>1616</th>\n",
              "      <td>0</td>\n",
              "    </tr>\n",
              "    <tr>\n",
              "      <th>1618</th>\n",
              "      <td>0</td>\n",
              "    </tr>\n",
              "    <tr>\n",
              "      <th>1621</th>\n",
              "      <td>0</td>\n",
              "    </tr>\n",
              "    <tr>\n",
              "      <th>1625</th>\n",
              "      <td>0</td>\n",
              "    </tr>\n",
              "  </tbody>\n",
              "</table>\n",
              "<p>489 rows × 1 columns</p>\n",
              "</div>"
            ],
            "text/plain": [
              "      preds\n",
              "2         1\n",
              "7         1\n",
              "8         1\n",
              "10        0\n",
              "11        0\n",
              "...     ...\n",
              "1613      0\n",
              "1616      0\n",
              "1618      0\n",
              "1621      0\n",
              "1625      0\n",
              "\n",
              "[489 rows x 1 columns]"
            ]
          },
          "metadata": {
            "tags": []
          },
          "execution_count": 123
        }
      ]
    },
    {
      "cell_type": "markdown",
      "metadata": {
        "id": "fGWL-hiBL3g0",
        "colab_type": "text"
      },
      "source": [
        "# Pen Portraits"
      ]
    },
    {
      "cell_type": "code",
      "metadata": {
        "id": "cnjdW8ldtmXU",
        "colab_type": "code",
        "colab": {
          "base_uri": "https://localhost:8080/",
          "height": 314
        },
        "outputId": "4896c010-78b5-44df-c683-d0b1f4f66d9b"
      },
      "source": [
        "ind_churn_pred=list(df_pred[df_pred['preds']==0].index.values)\n",
        "test_x[test_x.index.isin(ind_churn_pred)].describe()"
      ],
      "execution_count": 126,
      "outputs": [
        {
          "output_type": "execute_result",
          "data": {
            "text/html": [
              "<div>\n",
              "<style scoped>\n",
              "    .dataframe tbody tr th:only-of-type {\n",
              "        vertical-align: middle;\n",
              "    }\n",
              "\n",
              "    .dataframe tbody tr th {\n",
              "        vertical-align: top;\n",
              "    }\n",
              "\n",
              "    .dataframe thead th {\n",
              "        text-align: right;\n",
              "    }\n",
              "</style>\n",
              "<table border=\"1\" class=\"dataframe\">\n",
              "  <thead>\n",
              "    <tr style=\"text-align: right;\">\n",
              "      <th></th>\n",
              "      <th>customer_id</th>\n",
              "      <th>vf1</th>\n",
              "      <th>vf2</th>\n",
              "      <th>vf3</th>\n",
              "      <th>vf4</th>\n",
              "      <th>vf5</th>\n",
              "      <th>vf6</th>\n",
              "      <th>vf7</th>\n",
              "      <th>vf8</th>\n",
              "      <th>vf9</th>\n",
              "      <th>vf10</th>\n",
              "      <th>qf1</th>\n",
              "      <th>qf2</th>\n",
              "      <th>qf3</th>\n",
              "      <th>qf4</th>\n",
              "      <th>qf5</th>\n",
              "      <th>qf6</th>\n",
              "      <th>qf7</th>\n",
              "      <th>qf8</th>\n",
              "      <th>qf9</th>\n",
              "      <th>qf10</th>\n",
              "      <th>freq_f1</th>\n",
              "      <th>freq_f2</th>\n",
              "      <th>freq_f3</th>\n",
              "      <th>freq_f4</th>\n",
              "      <th>freq_f5</th>\n",
              "      <th>freq_f6</th>\n",
              "      <th>freq_f7</th>\n",
              "      <th>freq_f8</th>\n",
              "      <th>freq_f9</th>\n",
              "      <th>freq_f10</th>\n",
              "    </tr>\n",
              "  </thead>\n",
              "  <tbody>\n",
              "    <tr>\n",
              "      <th>count</th>\n",
              "      <td>335.000000</td>\n",
              "      <td>335.000000</td>\n",
              "      <td>335.000000</td>\n",
              "      <td>335.000000</td>\n",
              "      <td>335.000000</td>\n",
              "      <td>335.000000</td>\n",
              "      <td>335.000000</td>\n",
              "      <td>335.000000</td>\n",
              "      <td>335.000000</td>\n",
              "      <td>335.000000</td>\n",
              "      <td>335.000000</td>\n",
              "      <td>335.000000</td>\n",
              "      <td>335.000000</td>\n",
              "      <td>335.000000</td>\n",
              "      <td>335.000000</td>\n",
              "      <td>335.000000</td>\n",
              "      <td>335.000000</td>\n",
              "      <td>335.000000</td>\n",
              "      <td>335.000000</td>\n",
              "      <td>335.000000</td>\n",
              "      <td>335.000000</td>\n",
              "      <td>335.000000</td>\n",
              "      <td>335.000000</td>\n",
              "      <td>335.000000</td>\n",
              "      <td>335.000000</td>\n",
              "      <td>335.000000</td>\n",
              "      <td>335.000000</td>\n",
              "      <td>335.000000</td>\n",
              "      <td>335.000000</td>\n",
              "      <td>335.000000</td>\n",
              "      <td>335.000000</td>\n",
              "    </tr>\n",
              "    <tr>\n",
              "      <th>mean</th>\n",
              "      <td>8484.405970</td>\n",
              "      <td>25.911224</td>\n",
              "      <td>17.007940</td>\n",
              "      <td>15.372597</td>\n",
              "      <td>16.151373</td>\n",
              "      <td>14.090657</td>\n",
              "      <td>14.047463</td>\n",
              "      <td>15.678597</td>\n",
              "      <td>14.493910</td>\n",
              "      <td>13.097731</td>\n",
              "      <td>16.317582</td>\n",
              "      <td>3.280597</td>\n",
              "      <td>1.955224</td>\n",
              "      <td>1.901493</td>\n",
              "      <td>1.710448</td>\n",
              "      <td>1.671642</td>\n",
              "      <td>1.773134</td>\n",
              "      <td>1.859701</td>\n",
              "      <td>1.797015</td>\n",
              "      <td>1.376119</td>\n",
              "      <td>1.564179</td>\n",
              "      <td>1.597015</td>\n",
              "      <td>1.014925</td>\n",
              "      <td>0.964179</td>\n",
              "      <td>0.961194</td>\n",
              "      <td>0.880597</td>\n",
              "      <td>0.907463</td>\n",
              "      <td>0.928358</td>\n",
              "      <td>0.946269</td>\n",
              "      <td>0.823881</td>\n",
              "      <td>1.002985</td>\n",
              "    </tr>\n",
              "    <tr>\n",
              "      <th>std</th>\n",
              "      <td>4807.424746</td>\n",
              "      <td>30.486034</td>\n",
              "      <td>32.291535</td>\n",
              "      <td>30.858958</td>\n",
              "      <td>34.088273</td>\n",
              "      <td>33.618495</td>\n",
              "      <td>29.557853</td>\n",
              "      <td>30.687796</td>\n",
              "      <td>31.394095</td>\n",
              "      <td>29.227306</td>\n",
              "      <td>40.237963</td>\n",
              "      <td>2.409825</td>\n",
              "      <td>3.172830</td>\n",
              "      <td>2.799567</td>\n",
              "      <td>2.736378</td>\n",
              "      <td>3.030721</td>\n",
              "      <td>2.972306</td>\n",
              "      <td>3.156784</td>\n",
              "      <td>3.321224</td>\n",
              "      <td>2.307634</td>\n",
              "      <td>3.272261</td>\n",
              "      <td>1.067479</td>\n",
              "      <td>1.408832</td>\n",
              "      <td>1.420098</td>\n",
              "      <td>1.565435</td>\n",
              "      <td>1.365994</td>\n",
              "      <td>1.366988</td>\n",
              "      <td>1.439686</td>\n",
              "      <td>1.501529</td>\n",
              "      <td>1.550168</td>\n",
              "      <td>2.107157</td>\n",
              "    </tr>\n",
              "    <tr>\n",
              "      <th>min</th>\n",
              "      <td>104.000000</td>\n",
              "      <td>0.560000</td>\n",
              "      <td>0.000000</td>\n",
              "      <td>0.000000</td>\n",
              "      <td>0.000000</td>\n",
              "      <td>0.000000</td>\n",
              "      <td>0.000000</td>\n",
              "      <td>0.000000</td>\n",
              "      <td>0.000000</td>\n",
              "      <td>0.000000</td>\n",
              "      <td>0.000000</td>\n",
              "      <td>1.000000</td>\n",
              "      <td>0.000000</td>\n",
              "      <td>0.000000</td>\n",
              "      <td>0.000000</td>\n",
              "      <td>0.000000</td>\n",
              "      <td>0.000000</td>\n",
              "      <td>0.000000</td>\n",
              "      <td>0.000000</td>\n",
              "      <td>0.000000</td>\n",
              "      <td>0.000000</td>\n",
              "      <td>1.000000</td>\n",
              "      <td>0.000000</td>\n",
              "      <td>0.000000</td>\n",
              "      <td>0.000000</td>\n",
              "      <td>0.000000</td>\n",
              "      <td>0.000000</td>\n",
              "      <td>0.000000</td>\n",
              "      <td>0.000000</td>\n",
              "      <td>0.000000</td>\n",
              "      <td>0.000000</td>\n",
              "    </tr>\n",
              "    <tr>\n",
              "      <th>25%</th>\n",
              "      <td>4403.500000</td>\n",
              "      <td>9.550000</td>\n",
              "      <td>0.000000</td>\n",
              "      <td>0.000000</td>\n",
              "      <td>0.000000</td>\n",
              "      <td>0.000000</td>\n",
              "      <td>0.000000</td>\n",
              "      <td>0.000000</td>\n",
              "      <td>0.000000</td>\n",
              "      <td>0.000000</td>\n",
              "      <td>0.000000</td>\n",
              "      <td>1.000000</td>\n",
              "      <td>0.000000</td>\n",
              "      <td>0.000000</td>\n",
              "      <td>0.000000</td>\n",
              "      <td>0.000000</td>\n",
              "      <td>0.000000</td>\n",
              "      <td>0.000000</td>\n",
              "      <td>0.000000</td>\n",
              "      <td>0.000000</td>\n",
              "      <td>0.000000</td>\n",
              "      <td>1.000000</td>\n",
              "      <td>0.000000</td>\n",
              "      <td>0.000000</td>\n",
              "      <td>0.000000</td>\n",
              "      <td>0.000000</td>\n",
              "      <td>0.000000</td>\n",
              "      <td>0.000000</td>\n",
              "      <td>0.000000</td>\n",
              "      <td>0.000000</td>\n",
              "      <td>0.000000</td>\n",
              "    </tr>\n",
              "    <tr>\n",
              "      <th>50%</th>\n",
              "      <td>8766.000000</td>\n",
              "      <td>16.660000</td>\n",
              "      <td>0.920000</td>\n",
              "      <td>0.000000</td>\n",
              "      <td>0.000000</td>\n",
              "      <td>0.000000</td>\n",
              "      <td>0.000000</td>\n",
              "      <td>0.000000</td>\n",
              "      <td>0.000000</td>\n",
              "      <td>0.000000</td>\n",
              "      <td>0.000000</td>\n",
              "      <td>3.000000</td>\n",
              "      <td>1.000000</td>\n",
              "      <td>0.000000</td>\n",
              "      <td>0.000000</td>\n",
              "      <td>0.000000</td>\n",
              "      <td>0.000000</td>\n",
              "      <td>0.000000</td>\n",
              "      <td>0.000000</td>\n",
              "      <td>0.000000</td>\n",
              "      <td>0.000000</td>\n",
              "      <td>1.000000</td>\n",
              "      <td>1.000000</td>\n",
              "      <td>0.000000</td>\n",
              "      <td>0.000000</td>\n",
              "      <td>0.000000</td>\n",
              "      <td>0.000000</td>\n",
              "      <td>0.000000</td>\n",
              "      <td>0.000000</td>\n",
              "      <td>0.000000</td>\n",
              "      <td>0.000000</td>\n",
              "    </tr>\n",
              "    <tr>\n",
              "      <th>75%</th>\n",
              "      <td>12607.000000</td>\n",
              "      <td>31.875000</td>\n",
              "      <td>22.260000</td>\n",
              "      <td>20.385000</td>\n",
              "      <td>20.565000</td>\n",
              "      <td>16.955000</td>\n",
              "      <td>20.015000</td>\n",
              "      <td>20.660000</td>\n",
              "      <td>18.780000</td>\n",
              "      <td>14.080000</td>\n",
              "      <td>16.105000</td>\n",
              "      <td>3.000000</td>\n",
              "      <td>3.000000</td>\n",
              "      <td>3.000000</td>\n",
              "      <td>3.000000</td>\n",
              "      <td>3.000000</td>\n",
              "      <td>3.000000</td>\n",
              "      <td>3.000000</td>\n",
              "      <td>3.000000</td>\n",
              "      <td>3.000000</td>\n",
              "      <td>3.000000</td>\n",
              "      <td>2.000000</td>\n",
              "      <td>2.000000</td>\n",
              "      <td>2.000000</td>\n",
              "      <td>1.000000</td>\n",
              "      <td>1.000000</td>\n",
              "      <td>1.000000</td>\n",
              "      <td>2.000000</td>\n",
              "      <td>1.000000</td>\n",
              "      <td>1.000000</td>\n",
              "      <td>1.000000</td>\n",
              "    </tr>\n",
              "    <tr>\n",
              "      <th>max</th>\n",
              "      <td>16301.000000</td>\n",
              "      <td>306.970000</td>\n",
              "      <td>309.560000</td>\n",
              "      <td>387.710000</td>\n",
              "      <td>370.960000</td>\n",
              "      <td>334.650000</td>\n",
              "      <td>358.550000</td>\n",
              "      <td>249.750000</td>\n",
              "      <td>367.480000</td>\n",
              "      <td>206.560000</td>\n",
              "      <td>369.890000</td>\n",
              "      <td>17.000000</td>\n",
              "      <td>25.000000</td>\n",
              "      <td>16.000000</td>\n",
              "      <td>18.000000</td>\n",
              "      <td>34.000000</td>\n",
              "      <td>25.000000</td>\n",
              "      <td>19.000000</td>\n",
              "      <td>25.000000</td>\n",
              "      <td>18.000000</td>\n",
              "      <td>36.000000</td>\n",
              "      <td>9.000000</td>\n",
              "      <td>8.000000</td>\n",
              "      <td>9.000000</td>\n",
              "      <td>13.000000</td>\n",
              "      <td>9.000000</td>\n",
              "      <td>8.000000</td>\n",
              "      <td>8.000000</td>\n",
              "      <td>10.000000</td>\n",
              "      <td>13.000000</td>\n",
              "      <td>19.000000</td>\n",
              "    </tr>\n",
              "  </tbody>\n",
              "</table>\n",
              "</div>"
            ],
            "text/plain": [
              "        customer_id         vf1         vf2  ...     freq_f8     freq_f9    freq_f10\n",
              "count    335.000000  335.000000  335.000000  ...  335.000000  335.000000  335.000000\n",
              "mean    8484.405970   25.911224   17.007940  ...    0.946269    0.823881    1.002985\n",
              "std     4807.424746   30.486034   32.291535  ...    1.501529    1.550168    2.107157\n",
              "min      104.000000    0.560000    0.000000  ...    0.000000    0.000000    0.000000\n",
              "25%     4403.500000    9.550000    0.000000  ...    0.000000    0.000000    0.000000\n",
              "50%     8766.000000   16.660000    0.920000  ...    0.000000    0.000000    0.000000\n",
              "75%    12607.000000   31.875000   22.260000  ...    1.000000    1.000000    1.000000\n",
              "max    16301.000000  306.970000  309.560000  ...   10.000000   13.000000   19.000000\n",
              "\n",
              "[8 rows x 31 columns]"
            ]
          },
          "metadata": {
            "tags": []
          },
          "execution_count": 126
        }
      ]
    },
    {
      "cell_type": "code",
      "metadata": {
        "id": "pobjreP6xiH9",
        "colab_type": "code",
        "colab": {
          "base_uri": "https://localhost:8080/",
          "height": 314
        },
        "outputId": "49d7d629-463d-493e-f37a-95e96902e21e"
      },
      "source": [
        "ind_churn_pred=list(df_pred[df_pred['preds']==1].index.values)\n",
        "test_x[test_x.index.isin(ind_churn_pred)].describe()"
      ],
      "execution_count": 127,
      "outputs": [
        {
          "output_type": "execute_result",
          "data": {
            "text/html": [
              "<div>\n",
              "<style scoped>\n",
              "    .dataframe tbody tr th:only-of-type {\n",
              "        vertical-align: middle;\n",
              "    }\n",
              "\n",
              "    .dataframe tbody tr th {\n",
              "        vertical-align: top;\n",
              "    }\n",
              "\n",
              "    .dataframe thead th {\n",
              "        text-align: right;\n",
              "    }\n",
              "</style>\n",
              "<table border=\"1\" class=\"dataframe\">\n",
              "  <thead>\n",
              "    <tr style=\"text-align: right;\">\n",
              "      <th></th>\n",
              "      <th>customer_id</th>\n",
              "      <th>vf1</th>\n",
              "      <th>vf2</th>\n",
              "      <th>vf3</th>\n",
              "      <th>vf4</th>\n",
              "      <th>vf5</th>\n",
              "      <th>vf6</th>\n",
              "      <th>vf7</th>\n",
              "      <th>vf8</th>\n",
              "      <th>vf9</th>\n",
              "      <th>vf10</th>\n",
              "      <th>qf1</th>\n",
              "      <th>qf2</th>\n",
              "      <th>qf3</th>\n",
              "      <th>qf4</th>\n",
              "      <th>qf5</th>\n",
              "      <th>qf6</th>\n",
              "      <th>qf7</th>\n",
              "      <th>qf8</th>\n",
              "      <th>qf9</th>\n",
              "      <th>qf10</th>\n",
              "      <th>freq_f1</th>\n",
              "      <th>freq_f2</th>\n",
              "      <th>freq_f3</th>\n",
              "      <th>freq_f4</th>\n",
              "      <th>freq_f5</th>\n",
              "      <th>freq_f6</th>\n",
              "      <th>freq_f7</th>\n",
              "      <th>freq_f8</th>\n",
              "      <th>freq_f9</th>\n",
              "      <th>freq_f10</th>\n",
              "    </tr>\n",
              "  </thead>\n",
              "  <tbody>\n",
              "    <tr>\n",
              "      <th>count</th>\n",
              "      <td>154.000000</td>\n",
              "      <td>154.000000</td>\n",
              "      <td>154.000000</td>\n",
              "      <td>154.000000</td>\n",
              "      <td>154.000000</td>\n",
              "      <td>154.000000</td>\n",
              "      <td>154.000000</td>\n",
              "      <td>154.000000</td>\n",
              "      <td>154.000000</td>\n",
              "      <td>154.000000</td>\n",
              "      <td>154.000000</td>\n",
              "      <td>154.000000</td>\n",
              "      <td>154.000000</td>\n",
              "      <td>154.000000</td>\n",
              "      <td>154.000000</td>\n",
              "      <td>154.000000</td>\n",
              "      <td>154.000000</td>\n",
              "      <td>154.000000</td>\n",
              "      <td>154.000000</td>\n",
              "      <td>154.000000</td>\n",
              "      <td>154.000000</td>\n",
              "      <td>154.000000</td>\n",
              "      <td>154.000000</td>\n",
              "      <td>154.000000</td>\n",
              "      <td>154.000000</td>\n",
              "      <td>154.000000</td>\n",
              "      <td>154.000000</td>\n",
              "      <td>154.000000</td>\n",
              "      <td>154.00000</td>\n",
              "      <td>154.000000</td>\n",
              "      <td>154.000000</td>\n",
              "    </tr>\n",
              "    <tr>\n",
              "      <th>mean</th>\n",
              "      <td>7822.584416</td>\n",
              "      <td>110.633831</td>\n",
              "      <td>92.437662</td>\n",
              "      <td>104.658052</td>\n",
              "      <td>89.021948</td>\n",
              "      <td>95.610649</td>\n",
              "      <td>87.646234</td>\n",
              "      <td>83.290649</td>\n",
              "      <td>85.426234</td>\n",
              "      <td>81.932792</td>\n",
              "      <td>76.847013</td>\n",
              "      <td>5.584416</td>\n",
              "      <td>4.941558</td>\n",
              "      <td>5.318182</td>\n",
              "      <td>5.162338</td>\n",
              "      <td>5.253247</td>\n",
              "      <td>4.889610</td>\n",
              "      <td>4.357143</td>\n",
              "      <td>5.084416</td>\n",
              "      <td>4.896104</td>\n",
              "      <td>4.025974</td>\n",
              "      <td>6.896104</td>\n",
              "      <td>5.935065</td>\n",
              "      <td>6.538961</td>\n",
              "      <td>6.103896</td>\n",
              "      <td>6.194805</td>\n",
              "      <td>5.506494</td>\n",
              "      <td>5.610390</td>\n",
              "      <td>5.61039</td>\n",
              "      <td>5.519481</td>\n",
              "      <td>5.272727</td>\n",
              "    </tr>\n",
              "    <tr>\n",
              "      <th>std</th>\n",
              "      <td>4516.978649</td>\n",
              "      <td>129.734299</td>\n",
              "      <td>112.710142</td>\n",
              "      <td>125.172940</td>\n",
              "      <td>128.357933</td>\n",
              "      <td>126.706737</td>\n",
              "      <td>121.196259</td>\n",
              "      <td>126.127382</td>\n",
              "      <td>121.829311</td>\n",
              "      <td>118.293774</td>\n",
              "      <td>121.343799</td>\n",
              "      <td>3.815519</td>\n",
              "      <td>4.122689</td>\n",
              "      <td>3.881756</td>\n",
              "      <td>3.879679</td>\n",
              "      <td>3.770476</td>\n",
              "      <td>3.974694</td>\n",
              "      <td>4.085169</td>\n",
              "      <td>4.544553</td>\n",
              "      <td>4.322262</td>\n",
              "      <td>3.422242</td>\n",
              "      <td>5.469068</td>\n",
              "      <td>5.099885</td>\n",
              "      <td>5.159081</td>\n",
              "      <td>5.794034</td>\n",
              "      <td>6.108045</td>\n",
              "      <td>5.768119</td>\n",
              "      <td>6.057795</td>\n",
              "      <td>5.69636</td>\n",
              "      <td>5.873638</td>\n",
              "      <td>6.074992</td>\n",
              "    </tr>\n",
              "    <tr>\n",
              "      <th>min</th>\n",
              "      <td>47.000000</td>\n",
              "      <td>1.490000</td>\n",
              "      <td>0.000000</td>\n",
              "      <td>0.000000</td>\n",
              "      <td>0.000000</td>\n",
              "      <td>0.000000</td>\n",
              "      <td>0.000000</td>\n",
              "      <td>0.000000</td>\n",
              "      <td>0.000000</td>\n",
              "      <td>0.000000</td>\n",
              "      <td>0.000000</td>\n",
              "      <td>1.000000</td>\n",
              "      <td>0.000000</td>\n",
              "      <td>0.000000</td>\n",
              "      <td>0.000000</td>\n",
              "      <td>0.000000</td>\n",
              "      <td>0.000000</td>\n",
              "      <td>0.000000</td>\n",
              "      <td>0.000000</td>\n",
              "      <td>0.000000</td>\n",
              "      <td>0.000000</td>\n",
              "      <td>1.000000</td>\n",
              "      <td>0.000000</td>\n",
              "      <td>0.000000</td>\n",
              "      <td>0.000000</td>\n",
              "      <td>0.000000</td>\n",
              "      <td>0.000000</td>\n",
              "      <td>0.000000</td>\n",
              "      <td>0.00000</td>\n",
              "      <td>0.000000</td>\n",
              "      <td>0.000000</td>\n",
              "    </tr>\n",
              "    <tr>\n",
              "      <th>25%</th>\n",
              "      <td>4264.500000</td>\n",
              "      <td>40.225000</td>\n",
              "      <td>29.240000</td>\n",
              "      <td>31.467500</td>\n",
              "      <td>24.305000</td>\n",
              "      <td>28.785000</td>\n",
              "      <td>21.582500</td>\n",
              "      <td>15.917500</td>\n",
              "      <td>19.945000</td>\n",
              "      <td>19.362500</td>\n",
              "      <td>17.382500</td>\n",
              "      <td>3.000000</td>\n",
              "      <td>3.000000</td>\n",
              "      <td>3.000000</td>\n",
              "      <td>3.000000</td>\n",
              "      <td>3.000000</td>\n",
              "      <td>3.000000</td>\n",
              "      <td>3.000000</td>\n",
              "      <td>3.000000</td>\n",
              "      <td>3.000000</td>\n",
              "      <td>1.000000</td>\n",
              "      <td>3.000000</td>\n",
              "      <td>2.000000</td>\n",
              "      <td>3.000000</td>\n",
              "      <td>2.000000</td>\n",
              "      <td>3.000000</td>\n",
              "      <td>2.000000</td>\n",
              "      <td>2.000000</td>\n",
              "      <td>2.00000</td>\n",
              "      <td>2.000000</td>\n",
              "      <td>1.000000</td>\n",
              "    </tr>\n",
              "    <tr>\n",
              "      <th>50%</th>\n",
              "      <td>7671.000000</td>\n",
              "      <td>73.745000</td>\n",
              "      <td>63.555000</td>\n",
              "      <td>70.930000</td>\n",
              "      <td>48.380000</td>\n",
              "      <td>61.285000</td>\n",
              "      <td>52.685000</td>\n",
              "      <td>47.735000</td>\n",
              "      <td>50.620000</td>\n",
              "      <td>52.155000</td>\n",
              "      <td>43.215000</td>\n",
              "      <td>3.000000</td>\n",
              "      <td>3.000000</td>\n",
              "      <td>3.000000</td>\n",
              "      <td>3.000000</td>\n",
              "      <td>3.000000</td>\n",
              "      <td>3.000000</td>\n",
              "      <td>3.000000</td>\n",
              "      <td>3.000000</td>\n",
              "      <td>3.000000</td>\n",
              "      <td>3.000000</td>\n",
              "      <td>5.000000</td>\n",
              "      <td>5.000000</td>\n",
              "      <td>5.000000</td>\n",
              "      <td>4.500000</td>\n",
              "      <td>4.000000</td>\n",
              "      <td>4.000000</td>\n",
              "      <td>4.000000</td>\n",
              "      <td>4.00000</td>\n",
              "      <td>4.000000</td>\n",
              "      <td>4.000000</td>\n",
              "    </tr>\n",
              "    <tr>\n",
              "      <th>75%</th>\n",
              "      <td>11596.250000</td>\n",
              "      <td>137.530000</td>\n",
              "      <td>113.880000</td>\n",
              "      <td>126.927500</td>\n",
              "      <td>103.495000</td>\n",
              "      <td>120.370000</td>\n",
              "      <td>98.950000</td>\n",
              "      <td>103.395000</td>\n",
              "      <td>113.902500</td>\n",
              "      <td>98.857500</td>\n",
              "      <td>87.152500</td>\n",
              "      <td>7.000000</td>\n",
              "      <td>6.000000</td>\n",
              "      <td>7.000000</td>\n",
              "      <td>7.000000</td>\n",
              "      <td>7.000000</td>\n",
              "      <td>7.000000</td>\n",
              "      <td>6.000000</td>\n",
              "      <td>7.000000</td>\n",
              "      <td>6.750000</td>\n",
              "      <td>6.000000</td>\n",
              "      <td>9.000000</td>\n",
              "      <td>8.000000</td>\n",
              "      <td>9.000000</td>\n",
              "      <td>7.000000</td>\n",
              "      <td>8.000000</td>\n",
              "      <td>7.000000</td>\n",
              "      <td>7.000000</td>\n",
              "      <td>8.00000</td>\n",
              "      <td>7.000000</td>\n",
              "      <td>6.000000</td>\n",
              "    </tr>\n",
              "    <tr>\n",
              "      <th>max</th>\n",
              "      <td>16070.000000</td>\n",
              "      <td>941.320000</td>\n",
              "      <td>779.690000</td>\n",
              "      <td>972.030000</td>\n",
              "      <td>946.160000</td>\n",
              "      <td>1106.390000</td>\n",
              "      <td>909.100000</td>\n",
              "      <td>1154.510000</td>\n",
              "      <td>957.520000</td>\n",
              "      <td>875.970000</td>\n",
              "      <td>1023.640000</td>\n",
              "      <td>21.000000</td>\n",
              "      <td>21.000000</td>\n",
              "      <td>28.000000</td>\n",
              "      <td>22.000000</td>\n",
              "      <td>16.000000</td>\n",
              "      <td>16.000000</td>\n",
              "      <td>22.000000</td>\n",
              "      <td>29.000000</td>\n",
              "      <td>21.000000</td>\n",
              "      <td>16.000000</td>\n",
              "      <td>33.000000</td>\n",
              "      <td>28.000000</td>\n",
              "      <td>26.000000</td>\n",
              "      <td>32.000000</td>\n",
              "      <td>40.000000</td>\n",
              "      <td>32.000000</td>\n",
              "      <td>34.000000</td>\n",
              "      <td>33.00000</td>\n",
              "      <td>29.000000</td>\n",
              "      <td>34.000000</td>\n",
              "    </tr>\n",
              "  </tbody>\n",
              "</table>\n",
              "</div>"
            ],
            "text/plain": [
              "        customer_id         vf1         vf2  ...    freq_f8     freq_f9    freq_f10\n",
              "count    154.000000  154.000000  154.000000  ...  154.00000  154.000000  154.000000\n",
              "mean    7822.584416  110.633831   92.437662  ...    5.61039    5.519481    5.272727\n",
              "std     4516.978649  129.734299  112.710142  ...    5.69636    5.873638    6.074992\n",
              "min       47.000000    1.490000    0.000000  ...    0.00000    0.000000    0.000000\n",
              "25%     4264.500000   40.225000   29.240000  ...    2.00000    2.000000    1.000000\n",
              "50%     7671.000000   73.745000   63.555000  ...    4.00000    4.000000    4.000000\n",
              "75%    11596.250000  137.530000  113.880000  ...    8.00000    7.000000    6.000000\n",
              "max    16070.000000  941.320000  779.690000  ...   33.00000   29.000000   34.000000\n",
              "\n",
              "[8 rows x 31 columns]"
            ]
          },
          "metadata": {
            "tags": []
          },
          "execution_count": 127
        }
      ]
    },
    {
      "cell_type": "code",
      "metadata": {
        "id": "2FCB2ZANKnuF",
        "colab_type": "code",
        "colab": {}
      },
      "source": [
        "churners=df_pred[df_pred.preds==0]\n",
        "non_churners=df_pred[df_pred.preds==1]"
      ],
      "execution_count": 0,
      "outputs": []
    },
    {
      "cell_type": "code",
      "metadata": {
        "id": "T_eR1ddEb10f",
        "colab_type": "code",
        "outputId": "bbed2a4c-d8b9-4dca-9445-f2b33d050150",
        "colab": {
          "base_uri": "https://localhost:8080/",
          "height": 262
        }
      },
      "source": [
        "import numpy as np    \n",
        "import matplotlib.pyplot as plt\n",
        "df_pred['preds'].value_counts().plot(kind='bar');"
      ],
      "execution_count": 63,
      "outputs": [
        {
          "output_type": "display_data",
          "data": {
            "image/png": "[encoded data removed]",
            "text/plain": [
              "<Figure size 432x288 with 1 Axes>"
            ]
          },
          "metadata": {
            "tags": [],
            "needs_background": "light"
          }
        }
      ]
    },
    {
      "cell_type": "code",
      "metadata": {
        "id": "_5T8zLL2M_ee",
        "colab_type": "code",
        "colab": {}
      },
      "source": [
        "list_of_churners=list(churners.index.values)\n",
        "list_of_nonchurners=list(non_churners.index.values)"
      ],
      "execution_count": 0,
      "outputs": []
    },
    {
      "cell_type": "code",
      "metadata": {
        "id": "ppKGEw9nA2W8",
        "colab_type": "code",
        "outputId": "33281ff4-b907-4d4d-bf45-b4ccdb52eefe",
        "colab": {
          "base_uri": "https://localhost:8080/",
          "height": 35
        }
      },
      "source": [
        "len(list_of_churners)"
      ],
      "execution_count": 0,
      "outputs": [
        {
          "output_type": "execute_result",
          "data": {
            "text/plain": [
              "346"
            ]
          },
          "metadata": {
            "tags": []
          },
          "execution_count": 107
        }
      ]
    },
    {
      "cell_type": "code",
      "metadata": {
        "id": "dOIMBTbcDTCJ",
        "colab_type": "code",
        "outputId": "91b80340-e5cc-4f85-d970-931ca4e2c9c8",
        "colab": {
          "base_uri": "https://localhost:8080/",
          "height": 35
        }
      },
      "source": [
        "len(list_of_nonchurners)"
      ],
      "execution_count": 0,
      "outputs": [
        {
          "output_type": "execute_result",
          "data": {
            "text/plain": [
              "143"
            ]
          },
          "metadata": {
            "tags": []
          },
          "execution_count": 108
        }
      ]
    },
    {
      "cell_type": "code",
      "metadata": {
        "id": "tFLITsoHGcNn",
        "colab_type": "code",
        "colab": {}
      },
      "source": [
        "sql = \"\"\"\n",
        "     select customer_id, sum(value) as total_val, count(distinct receipt_id) as freq\n",
        "\tfrom ml16.receipts\n",
        "        join ml16.receipt_lines \n",
        "        using (receipt_id)\n",
        "        group by customer_id\n",
        "      \"\"\"\n",
        "with psycopg2.connect(\"host='{}' dbname='nlab' user='{}' password='{}'\".format(db_ip, user, pw)) as conn:\n",
        "    df1 = pd.read_sql(sql, conn)"
      ],
      "execution_count": 0,
      "outputs": []
    },
    {
      "cell_type": "code",
      "metadata": {
        "id": "UodYGxYBIVqu",
        "colab_type": "code",
        "colab": {}
      },
      "source": [
        "total_df=pd.concat([df1, df_pred], axis=1)"
      ],
      "execution_count": 0,
      "outputs": []
    },
    {
      "cell_type": "code",
      "metadata": {
        "id": "OhRpsYi8I8Yg",
        "colab_type": "code",
        "colab": {
          "base_uri": "https://localhost:8080/",
          "height": 52
        },
        "outputId": "4821588d-76ef-447e-ccd3-3740c1405b63"
      },
      "source": [
        "churners = total_df[total_df['preds']> 0]\n",
        "non_churners = total_df[total_df['preds']< 1]\n",
        "\n",
        "count_row1 = churners.shape[0] \n",
        "print('Churners',count_row1)\n",
        "\n",
        "count_row2 = non_churners.shape[0] \n",
        "print('Non Churners',count_row2)"
      ],
      "execution_count": 168,
      "outputs": [
        {
          "output_type": "stream",
          "text": [
            "Churners 154\n",
            "Non Churners 335\n"
          ],
          "name": "stdout"
        }
      ]
    },
    {
      "cell_type": "code",
      "metadata": {
        "id": "SKDh7UPNGHmv",
        "colab_type": "code",
        "colab": {
          "base_uri": "https://localhost:8080/",
          "height": 87
        },
        "outputId": "f6fed55f-3840-4108-f77d-a34bbc8098b0"
      },
      "source": [
        "avg_value_churners = churners['total_val'].mean()\n",
        "print('Average amount spent by churners till date=',avg_value_churners) \n",
        "\n",
        "avg_value_non_churners = non_churners['total_val'].mean()\n",
        "print('Avgerage amount spent by non churners till date=',avg_value_non_churners) \n",
        "\n",
        "avg_freq_churners = churners['freq'].mean()\n",
        "print('Avgerage number of visits by churners till date=',avg_freq_churners)\n",
        "\n",
        "avg_freq_non_churners = non_churners['freq'].mean()\n",
        "print('Avgerage number of visits by non churners till date=',avg_freq_non_churners) "
      ],
      "execution_count": 172,
      "outputs": [
        {
          "output_type": "stream",
          "text": [
            "Average amount spent by churners till date= 234.1074025974027\n",
            "Avgerage amount spent by non churners till date= 254.07635820895504\n",
            "Avgerage number of visits by churners till date= 16.396103896103895\n",
            "Avgerage number of visits by non churners till date= 15.605970149253732\n"
          ],
          "name": "stdout"
        }
      ]
    },
    {
      "cell_type": "markdown",
      "metadata": {
        "id": "xN90TFjvQbTB",
        "colab_type": "text"
      },
      "source": [
        "# Feature Inportance"
      ]
    },
    {
      "cell_type": "code",
      "metadata": {
        "id": "Mkv4T7r_RRg2",
        "colab_type": "code",
        "colab": {}
      },
      "source": [
        "def print_variable_importances( feature_names, dict_in, show_top = 10 ):\n",
        " \n",
        "  if show_top is None:\n",
        "    show_top = len(feature_names)\n",
        "  \n",
        "  to_print_titles = []\n",
        "  to_print_scores = []\n",
        "  \n",
        "  for k, v in dict_in.items():\n",
        "\n",
        "    feature_names_plus_scores = sorted( zip(v, feature_names) )\n",
        "    feature_names_plus_scores.reverse()\n",
        "    to_print_titles.append(k)\n",
        "    to_print_scores.append(feature_names_plus_scores)\n",
        "    \n",
        "  line_parts = []\n",
        "  for j in range(len(to_print_titles)):\n",
        "    line_parts.append('{:<38}'.format(to_print_titles[j]))\n",
        "  \n",
        " \n",
        "  print('Rank | ' + ' | '.join( ['{:<38}'.format(x) for x in to_print_titles] ) )\n",
        "  \n",
        "\n",
        "  print('---- + ' + ' + '.join( [ '-'*38 ]*len(to_print_titles) ) )\n",
        "  \n",
        "  for i in range(show_top):\n",
        "\n",
        "    line_parts = []\n",
        "    for j in range(len(to_print_titles)):\n",
        "      line_parts.append(  '{:<30}: {:.4f}'.format(to_print_scores[j][i][1], to_print_scores[j][i][0]) )\n",
        "  \n",
        "    print( '{:<4} | '.format(str(i)) + ' | '.join(line_parts) )"
      ],
      "execution_count": 0,
      "outputs": []
    },
    {
      "cell_type": "code",
      "metadata": {
        "id": "XZ6cGL3PMUg6",
        "colab_type": "code",
        "colab": {}
      },
      "source": [
        "X,y = get_dataset( reference_day = '2019-10-23', tumbling_window_size = 7, output_window_size = 27)"
      ],
      "execution_count": 0,
      "outputs": []
    },
    {
      "cell_type": "code",
      "metadata": {
        "id": "72iK2oo2Rxbe",
        "colab_type": "code",
        "colab": {}
      },
      "source": [
        "from sklearn.model_selection import train_test_split\n",
        "X_train, X_test, y_train, y_test = train_test_split(X, y, test_size=0.33, random_state=42)"
      ],
      "execution_count": 0,
      "outputs": []
    },
    {
      "cell_type": "code",
      "metadata": {
        "id": "_lB55GKBHbas",
        "colab_type": "code",
        "outputId": "f57ac7d7-4957-4f7f-e158-dd2daa658acc",
        "colab": {
          "base_uri": "https://localhost:8080/",
          "height": 35
        }
      },
      "source": [
        "import numpy as np\n",
        "from sklearn.feature_selection import VarianceThreshold\n",
        "\n",
        "vt = VarianceThreshold(threshold = 0.0)\n",
        "vt.fit(X_train)\n",
        "\n",
        "X_train.columns[np.invert(vt.get_support())]"
      ],
      "execution_count": 0,
      "outputs": [
        {
          "output_type": "execute_result",
          "data": {
            "text/plain": [
              "Index([], dtype='object')"
            ]
          },
          "metadata": {
            "tags": []
          },
          "execution_count": 15
        }
      ]
    },
    {
      "cell_type": "code",
      "metadata": {
        "id": "Wmuj2oYbWG5j",
        "colab_type": "code",
        "colab": {}
      },
      "source": [
        "!pip install -q eli5\n",
        "from sklearn.neighbors import KNeighborsClassifier\n",
        "from sklearn.pipeline import Pipeline\n",
        "from sklearn.preprocessing import StandardScaler\n",
        "from sklearn.metrics import accuracy_score\n",
        "import matplotlib.pyplot as plt\n",
        "from sklearn.ensemble import RandomForestClassifier"
      ],
      "execution_count": 0,
      "outputs": []
    },
    {
      "cell_type": "code",
      "metadata": {
        "id": "Hr23u3yhRyeL",
        "colab_type": "code",
        "outputId": "339ce68d-248d-4e28-fb7d-2cb676354037",
        "colab": {
          "base_uri": "https://localhost:8080/",
          "height": 225
        }
      },
      "source": [
        "import eli5\n",
        "from eli5.sklearn import PermutationImportance\n",
        "\n",
        "# TASK 1\n",
        "feature_importance_scores = {}\n",
        "X_train_sub, X_test_sub, y_train_sub, y_test_sub = train_test_split(X_train, y_train, test_size=0.33, random_state=42)\n",
        "\n",
        "rf_perm = RandomForestClassifier()\n",
        "\n",
        "rf_perm.fit(X_train_sub, y_train_sub)\n",
        "\n",
        "perm = PermutationImportance(rf_perm, cv='prefit')\n",
        "\n",
        "perm.fit(X_test_sub, y_test_sub)\n",
        "\n",
        "y_pred = rf_perm.predict(X_test)\n",
        "scores = accuracy_score(y_test, y_pred)\n",
        "\n",
        "method_name = 'Perm non-cv RF ({:.2f})'.format(scores*100)\n",
        "\n",
        "feature_importance_scores[method_name] = perm.feature_importances_\n",
        "\n",
        "print_variable_importances( X_train.columns, feature_importance_scores )"
      ],
      "execution_count": 0,
      "outputs": [
        {
          "output_type": "stream",
          "text": [
            "Rank | Perm non-cv RF (76.39)                \n",
            "---- + --------------------------------------\n",
            "0    | freq_f5                       : 0.0056\n",
            "1    | vf4                           : 0.0022\n",
            "2    | freq_f9                       : 0.0022\n",
            "3    | vf10                          : 0.0017\n",
            "4    | vf1                           : 0.0017\n",
            "5    | qf4                           : 0.0017\n",
            "6    | qf2                           : 0.0017\n",
            "7    | freq_f2                       : 0.0017\n",
            "8    | vf2                           : 0.0006\n",
            "9    | qf5                           : 0.0000\n"
          ],
          "name": "stdout"
        }
      ]
    },
    {
      "cell_type": "code",
      "metadata": {
        "id": "mTWR92RtR23-",
        "colab_type": "code",
        "outputId": "804672ff-16e0-414d-838a-4dca62f0e22a",
        "colab": {
          "base_uri": "https://localhost:8080/",
          "height": 265
        }
      },
      "source": [
        "#plot graph of feature importances for better visualization\n",
        "feat_importances = pd.Series(perm.feature_importances_, index=X.columns)\n",
        "feat_importances.nlargest(5).plot(kind='barh')\n",
        "plt.show()"
      ],
      "execution_count": 0,
      "outputs": [
        {
          "output_type": "display_data",
          "data": {
            "image/png": "[encoded data removed]",
            "text/plain": [
              "<Figure size 432x288 with 1 Axes>"
            ]
          },
          "metadata": {
            "tags": [],
            "needs_background": "light"
          }
        }
      ]
    },
    {
      "cell_type": "code",
      "metadata": {
        "id": "Z2xxqIadqxZO",
        "colab_type": "code",
        "colab": {}
      },
      "source": [
        ""
      ],
      "execution_count": 0,
      "outputs": []
    }
  ]
}